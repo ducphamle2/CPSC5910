{
 "cells": [
  {
   "cell_type": "code",
   "execution_count": 2,
   "metadata": {},
   "outputs": [],
   "source": [
    "import requests\n",
    "import json\n",
    "from dotenv import load_dotenv\n",
    "import os\n",
    "load_dotenv()  # have your rpc endpoint in .env file to prevent accidental commit to github\n",
    "\n",
    "to_address = '0x50f9202e0f1c1577822bd67193960b213cd2f331' # hacker EOA\n",
    "contract_address = '0x9eb5f8e83359bb5013f3d8eee60bdce5654e8881' # hacker contract\n",
    "url = \"https://q.luabase.com/run\""
   ]
  },
  {
   "cell_type": "code",
   "execution_count": 3,
   "metadata": {},
   "outputs": [
    {
     "data": {
      "text/plain": [
       "11"
      ]
     },
     "execution_count": 3,
     "metadata": {},
     "output_type": "execute_result"
    }
   ],
   "source": [
    "# collect list of erc20 tranfer txs that were sent to the hacker's address\n",
    "sql = f\"select from_address as victim_from_address,token_address as erc20_token_address,to_address as hacker_to_address,transaction_hash, value as amount FROM ethereum.token_transfers AS t WHERE t.to_address = '{to_address}' AND t.block_number >= 15213261\"\n",
    "payload = {\n",
    "    \"block\": {\n",
    "        \"details\": {\n",
    "        \"sql\": sql,\n",
    "        }\n",
    "    },\n",
    "    \"api_key\": os.environ.get('LUABASE_API_KEY')\n",
    "}\n",
    "\n",
    "headers = {\"content-type\": \"application/json\"}\n",
    "response = requests.request(\"POST\", url, json=payload, headers=headers)\n",
    "transfer_data = response.json()['data']\n",
    "len(transfer_data)\n"
   ]
  },
  {
   "cell_type": "code",
   "execution_count": 4,
   "metadata": {},
   "outputs": [
    {
     "data": {
      "text/plain": [
       "9"
      ]
     },
     "execution_count": 4,
     "metadata": {},
     "output_type": "execute_result"
    }
   ],
   "source": [
    "# collect list of txs that have the withdraw erc20 balance method id of victim's addresses & the address called is the hacker's contract. \n",
    "sql = f\"select from_address,to_address,hash FROM ethereum.transactions AS t where t.input LIKE '%0x9c307de6%' AND t.to_address = '{contract_address}' AND t.block_number >= 15213261\"\n",
    "payload = {\n",
    "    \"block\": {\n",
    "        \"details\": {\n",
    "        \"sql\": sql,\n",
    "        }\n",
    "    },\n",
    "    \"api_key\": os.environ.get('LUABASE_API_KEY')\n",
    "}\n",
    "\n",
    "response = requests.request(\"POST\", url, json=payload, headers=headers)\n",
    "transaction_data = response.json()['data']\n",
    "len(transaction_data)"
   ]
  },
  {
   "cell_type": "code",
   "execution_count": 5,
   "metadata": {},
   "outputs": [
    {
     "name": "stdout",
     "output_type": "stream",
     "text": [
      "9\n"
     ]
    },
    {
     "data": {
      "text/plain": [
       "{'victim_from_address': '0x1a2a910185467dab98c3c04eee38ac6dbbc3b0d5',\n",
       " 'erc20_token_address': '0x6b175474e89094c44da98b954eedeac495271d0f',\n",
       " 'hacker_to_address': '0x50f9202e0f1c1577822bd67193960b213cd2f331',\n",
       " 'transaction_hash': '0xc8e035ac6abd1d7a34a73ed66b7ea15a55d34db762bc073e0a29761975e6c448',\n",
       " 'amount': 4000917429820000000000,\n",
       " 'hacker_contract_address': '0x9eb5f8e83359bb5013f3d8eee60bdce5654e8881'}"
      ]
     },
     "execution_count": 5,
     "metadata": {},
     "output_type": "execute_result"
    }
   ],
   "source": [
    "# collect victim's addresses\n",
    "final_data = []\n",
    "for t in transfer_data:\n",
    "    for tx in transaction_data:\n",
    "        if t['transaction_hash'] == tx['hash']:\n",
    "            # print(tx)\n",
    "            t['hacker_contract_address'] = tx['to_address']\n",
    "            final_data.append(t)\n",
    "\n",
    "print(len(final_data))\n",
    "final_data[0]"
   ]
  },
  {
   "cell_type": "code",
   "execution_count": 20,
   "metadata": {},
   "outputs": [
    {
     "data": {
      "text/plain": [
       "{'victim_from_address': '0x1a2a910185467dab98c3c04eee38ac6dbbc3b0d5',\n",
       " 'erc20_token_address': '0x6b175474e89094c44da98b954eedeac495271d0f',\n",
       " 'hacker_to_address': '0x50f9202e0f1c1577822bd67193960b213cd2f331',\n",
       " 'transaction_hash': '0xc8e035ac6abd1d7a34a73ed66b7ea15a55d34db762bc073e0a29761975e6c448',\n",
       " 'amount': 4000917429820000000000,\n",
       " 'hacker_contract_address': '0x9eb5f8e83359bb5013f3d8eee60bdce5654e8881',\n",
       " 'erc20_decimals': 18,\n",
       " 'erc20_name': 'Dai Stablecoin',\n",
       " 'erc20_symbol': 'DAI'}"
      ]
     },
     "execution_count": 20,
     "metadata": {},
     "output_type": "execute_result"
    }
   ],
   "source": [
    "# get erc20 information to calcuate the total assets stolen. \n",
    "# TODO: need to filter erc20 duplicates to reduce query time\n",
    "unique_erc20s = {}\n",
    "\n",
    "assets = []\n",
    "for f in final_data:\n",
    "    erc20 = f['erc20_token_address']\n",
    "    if erc20 not in unique_erc20s:\n",
    "        sql = f\"select symbol, decimals from ethereum.tokens as t WHERE t.address = '{erc20}'\"\n",
    "        payload = {\n",
    "            \"block\": {\n",
    "                \"details\": {\n",
    "                \"sql\": sql,\n",
    "                }\n",
    "            },\n",
    "            \"api_key\": os.environ.get('LUABASE_API_KEY')\n",
    "        }\n",
    "\n",
    "        # since the response is an array with duplicates, we only need to get first element\n",
    "        response = requests.request(\"POST\", url, json=payload, headers=headers).json()['data'][0]\n",
    "        unique_erc20s[erc20] = {'erc20_decimals': response['decimals'], 'erc20_symbol': response['symbol']}\n",
    "    f.update(unique_erc20s[erc20])\n",
    "\n",
    "final_data[0]"
   ]
  },
  {
   "cell_type": "code",
   "execution_count": 36,
   "metadata": {},
   "outputs": [
    {
     "data": {
      "text/plain": [
       "{'0x6b175474e89094c44da98b954eedeac495271d0f': {'amount': 6458.823763845549,\n",
       "  'decimals': 18,\n",
       "  'symbol': 'DAI'},\n",
       " '0xa0b86991c6218b36c1d19d4a2e9eb0ce3606eb48': {'amount': 606265.325268,\n",
       "  'decimals': 6,\n",
       "  'symbol': 'USDC'}}"
      ]
     },
     "execution_count": 36,
     "metadata": {},
     "output_type": "execute_result"
    }
   ],
   "source": [
    "# calculate total assets stolen based on the ERC20 information & transaction data retrieved\n",
    "\n",
    "asset_lost_results = {}\n",
    "\n",
    "for f in final_data:\n",
    "    erc20 = f['erc20_token_address']\n",
    "    if erc20 not in asset_lost_results:\n",
    "        asset_lost_results[erc20] = {'amount': f['amount'], 'decimals': f['erc20_decimals'], 'symbol': f['erc20_symbol']}\n",
    "    else:\n",
    "        asset_lost_results[erc20].update({'amount': f['amount'] + asset_lost_results[erc20]['amount']})\n",
    "\n",
    "for asset in asset_lost_results.keys():\n",
    "    asset_lost_results[asset]['amount'] = asset_lost_results[asset]['amount'] / pow(10, asset_lost_results[asset]['decimals'])\n",
    "\n",
    "asset_lost_results"
   ]
  }
 ],
 "metadata": {
  "kernelspec": {
   "display_name": "Python 3.8.13 ('CPSC5910')",
   "language": "python",
   "name": "python3"
  },
  "language_info": {
   "codemirror_mode": {
    "name": "ipython",
    "version": 3
   },
   "file_extension": ".py",
   "mimetype": "text/x-python",
   "name": "python",
   "nbconvert_exporter": "python",
   "pygments_lexer": "ipython3",
   "version": "3.8.13"
  },
  "orig_nbformat": 4,
  "vscode": {
   "interpreter": {
    "hash": "d324f828b37aa5c2f631371e9406361f9a97092a5b9c3d4e76f4018a82273078"
   }
  }
 },
 "nbformat": 4,
 "nbformat_minor": 2
}
