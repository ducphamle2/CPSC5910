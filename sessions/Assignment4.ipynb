{
 "cells": [
  {
   "cell_type": "code",
   "execution_count": 76,
   "metadata": {},
   "outputs": [],
   "source": [
    "import requests\n",
    "import json\n",
    "from dotenv import load_dotenv\n",
    "import os\n",
    "load_dotenv()  # have your rpc endpoint in .env file to prevent accidental commit to github\n",
    "\n",
    "to_address = '0x50f9202e0f1c1577822bd67193960b213cd2f331' # hacker EOA\n",
    "contract_address = '9eb5f8e83359bb5013f3d8eee60bdce5654e8881' # hacker contract\n",
    "approve_method_id = '095ea7b3'\n",
    "url = \"https://q.luabase.com/run\"\n",
    "\n",
    "def queryLuabase(sql):\n",
    "    headers = {\"content-type\": \"application/json\"}\n",
    "    payload = {\n",
    "        \"block\": {\n",
    "            \"details\": {\n",
    "            \"sql\": sql,\n",
    "            }\n",
    "        },\n",
    "        \"api_key\": os.environ.get('LUABASE_API_KEY')\n",
    "    }\n",
    "\n",
    "    res = requests.request(\"POST\", url, json=payload, headers=headers).json()\n",
    "    if res['data'] is not None:\n",
    "        return res['data']\n",
    "    return res"
   ]
  },
  {
   "cell_type": "code",
   "execution_count": 36,
   "metadata": {},
   "outputs": [
    {
     "data": {
      "text/plain": [
       "11"
      ]
     },
     "execution_count": 36,
     "metadata": {},
     "output_type": "execute_result"
    }
   ],
   "source": [
    "# collect list of erc20 tranfer txs that were sent to the hacker's address\n",
    "transfer_data = queryLuabase(f\"select from_address as victim_from_address,token_address as erc20_token_address,to_address as hacker_to_address,transaction_hash, value as amount FROM ethereum.token_transfers AS t WHERE t.to_address = '{to_address}' AND t.block_number >= 15213261\")\n",
    "len(transfer_data)\n"
   ]
  },
  {
   "cell_type": "code",
   "execution_count": 37,
   "metadata": {},
   "outputs": [
    {
     "data": {
      "text/plain": [
       "9"
      ]
     },
     "execution_count": 37,
     "metadata": {},
     "output_type": "execute_result"
    }
   ],
   "source": [
    "# collect list of txs that have the withdraw erc20 balance method id of victim's addresses & the address called is the hacker's contract. \n",
    "transaction_data = queryLuabase(f\"select from_address,to_address,hash,block_number FROM ethereum.transactions AS t where t.input LIKE '%0x9c307de6%' AND t.to_address = '0x{contract_address}' AND t.block_number >= 15213261\")\n",
    "len(transaction_data)"
   ]
  },
  {
   "cell_type": "code",
   "execution_count": 38,
   "metadata": {},
   "outputs": [
    {
     "name": "stdout",
     "output_type": "stream",
     "text": [
      "9\n"
     ]
    },
    {
     "data": {
      "text/plain": [
       "{'victim_from_address': '0x1a2a910185467dab98c3c04eee38ac6dbbc3b0d5',\n",
       " 'erc20_token_address': '0x6b175474e89094c44da98b954eedeac495271d0f',\n",
       " 'hacker_to_address': '0x50f9202e0f1c1577822bd67193960b213cd2f331',\n",
       " 'transaction_hash': '0xc8e035ac6abd1d7a34a73ed66b7ea15a55d34db762bc073e0a29761975e6c448',\n",
       " 'amount': 4000917429820000000000,\n",
       " 'hacker_contract_address': '0x9eb5f8e83359bb5013f3d8eee60bdce5654e8881'}"
      ]
     },
     "execution_count": 38,
     "metadata": {},
     "output_type": "execute_result"
    }
   ],
   "source": [
    "# collect victim's addresses\n",
    "final_data = []\n",
    "for t in transfer_data:\n",
    "    for tx in transaction_data:\n",
    "        if t['transaction_hash'] == tx['hash']:\n",
    "            # print(tx)\n",
    "            t['hacker_contract_address'] = tx['to_address']\n",
    "            final_data.append(t)\n",
    "\n",
    "print(len(final_data))\n",
    "final_data[0]"
   ]
  },
  {
   "cell_type": "code",
   "execution_count": 39,
   "metadata": {},
   "outputs": [
    {
     "data": {
      "text/plain": [
       "{'victim_from_address': '0x1a2a910185467dab98c3c04eee38ac6dbbc3b0d5',\n",
       " 'erc20_token_address': '0x6b175474e89094c44da98b954eedeac495271d0f',\n",
       " 'hacker_to_address': '0x50f9202e0f1c1577822bd67193960b213cd2f331',\n",
       " 'transaction_hash': '0xc8e035ac6abd1d7a34a73ed66b7ea15a55d34db762bc073e0a29761975e6c448',\n",
       " 'amount': 4000917429820000000000,\n",
       " 'hacker_contract_address': '0x9eb5f8e83359bb5013f3d8eee60bdce5654e8881',\n",
       " 'erc20_decimals': 18,\n",
       " 'erc20_symbol': 'DAI'}"
      ]
     },
     "execution_count": 39,
     "metadata": {},
     "output_type": "execute_result"
    }
   ],
   "source": [
    "# get erc20 information to calcuate the total assets stolen. \n",
    "unique_erc20s = {}\n",
    "\n",
    "assets = []\n",
    "for f in final_data:\n",
    "    erc20 = f['erc20_token_address']\n",
    "    if erc20 not in unique_erc20s:\n",
    "        response = queryLuabase(f\"select symbol, decimals from ethereum.tokens as t WHERE t.address = '{erc20}'\")[0]\n",
    "        unique_erc20s[erc20] = {'erc20_decimals': response['decimals'], 'erc20_symbol': response['symbol']}\n",
    "    f.update(unique_erc20s[erc20])\n",
    "\n",
    "final_data[0]"
   ]
  },
  {
   "cell_type": "code",
   "execution_count": 40,
   "metadata": {},
   "outputs": [
    {
     "data": {
      "text/plain": [
       "{'0x6b175474e89094c44da98b954eedeac495271d0f': {'amount': 6458.823763845549,\n",
       "  'decimals': 18,\n",
       "  'symbol': 'DAI'},\n",
       " '0xa0b86991c6218b36c1d19d4a2e9eb0ce3606eb48': {'amount': 606265.325268,\n",
       "  'decimals': 6,\n",
       "  'symbol': 'USDC'}}"
      ]
     },
     "execution_count": 40,
     "metadata": {},
     "output_type": "execute_result"
    }
   ],
   "source": [
    "# calculate total assets stolen based on the ERC20 information & transaction data retrieved\n",
    "\n",
    "asset_lost_results = {}\n",
    "\n",
    "for f in final_data:\n",
    "    erc20 = f['erc20_token_address']\n",
    "    if erc20 not in asset_lost_results:\n",
    "        asset_lost_results[erc20] = {'amount': f['amount'], 'decimals': f['erc20_decimals'], 'symbol': f['erc20_symbol']}\n",
    "    else:\n",
    "        asset_lost_results[erc20].update({'amount': f['amount'] + asset_lost_results[erc20]['amount']})\n",
    "\n",
    "for asset in asset_lost_results.keys():\n",
    "    asset_lost_results[asset]['amount'] = asset_lost_results[asset]['amount'] / pow(10, asset_lost_results[asset]['decimals'])\n",
    "\n",
    "asset_lost_results"
   ]
  },
  {
   "cell_type": "code",
   "execution_count": 41,
   "metadata": {},
   "outputs": [
    {
     "data": {
      "text/plain": [
       "{'0x6b175474e89094c44da98b954eedeac495271d0f': [{'hash': '0x58fad2f53183fec4226e10bca0b3c96d3dff41e2a645f458bf2237ecf027e10d',\n",
       "   'block_number': 15309954,\n",
       "   'input': '0x095ea7b30000000000000000000000009eb5f8e83359bb5013f3d8eee60bdce5654e8881ffffffffffffffffffffffffffffffffffffffffffffffffffffffffffffffff',\n",
       "   'from_address': '0x056fc75753bd75ea28b5966c4bea29f4ad49321c'},\n",
       "  {'hash': '0x2acc9aa3cf6e47ec78050f49fef2aa309f37c0b1e5e7d68f16b4ae8465c2cd03',\n",
       "   'block_number': 15310030,\n",
       "   'input': '0x095ea7b30000000000000000000000009eb5f8e83359bb5013f3d8eee60bdce5654e8881ffffffffffffffffffffffffffffffffffffffffffffffffffffffffffffffff',\n",
       "   'from_address': '0xb3e08599ac57666be68dbb3d311b9c607900a83b'},\n",
       "  {'hash': '0x518e44788c095cec696291ef23e9c6b51914fc26186a047621663eb498993360',\n",
       "   'block_number': 15310180,\n",
       "   'input': '0x095ea7b30000000000000000000000009eb5f8e83359bb5013f3d8eee60bdce5654e88810000000000000000000000000000000000000000000000000000000000000000',\n",
       "   'from_address': '0x1a2a910185467dab98c3c04eee38ac6dbbc3b0d5'},\n",
       "  {'hash': '0xdb8ffac2a6e52073a88bd272c5d1c80cb18b12e56770d6fabbad82cc16a6b79b',\n",
       "   'block_number': 15310017,\n",
       "   'input': '0x095ea7b30000000000000000000000009eb5f8e83359bb5013f3d8eee60bdce5654e8881ffffffffffffffffffffffffffffffffffffffffffffffffffffffffffffffff',\n",
       "   'from_address': '0x1a2a910185467dab98c3c04eee38ac6dbbc3b0d5'},\n",
       "  {'hash': '0xceb387d02ccd74ff7ed57bfc808c96701690f7baed832df97a722fae06eaf82e',\n",
       "   'block_number': 15310176,\n",
       "   'input': '0x095ea7b30000000000000000000000009eb5f8e83359bb5013f3d8eee60bdce5654e88810000000000000000000000000000000000000000000000000000000000000000',\n",
       "   'from_address': '0xb3e08599ac57666be68dbb3d311b9c607900a83b'},\n",
       "  {'hash': '0xcdc0b949cab68a3820b155c4e3ae461b54b9188444584906aba4cbbcd0865c5f',\n",
       "   'block_number': 15310260,\n",
       "   'input': '0x095ea7b30000000000000000000000009eb5f8e83359bb5013f3d8eee60bdce5654e8881ffffffffffffffffffffffffffffffffffffffffffffffffffffffffffffffff',\n",
       "   'from_address': '0xc705faf7a01faaf50198ae32a8e1e8b3a60b18bb'},\n",
       "  {'hash': '0xaf4affc0b194e52ab14fb8f96251a6c673530e8473f14256067b7d93546c1db1',\n",
       "   'block_number': 15310221,\n",
       "   'input': '0x095ea7b30000000000000000000000009eb5f8e83359bb5013f3d8eee60bdce5654e88810000000000000000000000000000000000000000000000000000000000000000',\n",
       "   'from_address': '0x056fc75753bd75ea28b5966c4bea29f4ad49321c'},\n",
       "  {'hash': '0xfbd49fa7db12196091449fdd58c91b9e2db7d5dbc6a53287a23f2bc6530e57ac',\n",
       "   'block_number': 15310178,\n",
       "   'input': '0x095ea7b30000000000000000000000009eb5f8e83359bb5013f3d8eee60bdce5654e88810000000000000000000000000000000000000000000000000000000000000000',\n",
       "   'from_address': '0x1a2a910185467dab98c3c04eee38ac6dbbc3b0d5'}],\n",
       " '0xa0b86991c6218b36c1d19d4a2e9eb0ce3606eb48': [{'hash': '0x13f39959a34403267d3ad54ec1a4eca929b08b9b67376635fc9974c38651d2c9',\n",
       "   'block_number': 15309722,\n",
       "   'input': '0x095ea7b30000000000000000000000009eb5f8e83359bb5013f3d8eee60bdce5654e8881ffffffffffffffffffffffffffffffffffffffffffffffffffffffffffffffff',\n",
       "   'from_address': '0x45470961fb25789654fcfc391baf77019051ef78'},\n",
       "  {'hash': '0x601c794075ac940289b822427f797cb6f4dd3edf4b584a68e1bba3384cd94b42',\n",
       "   'block_number': 15309986,\n",
       "   'input': '0x095ea7b30000000000000000000000009eb5f8e83359bb5013f3d8eee60bdce5654e88810000000000000000000000000000000000000000000000000000001742810700',\n",
       "   'from_address': '0x4436f5dd7bc4a63bcd86a33ba2862fdbf242c76e'},\n",
       "  {'hash': '0x0487ae0fc34986b5bc0cd24cb8d7cfbd733dc8af802a62b4da8b06ea128a8556',\n",
       "   'block_number': 15310016,\n",
       "   'input': '0x095ea7b30000000000000000000000009eb5f8e83359bb5013f3d8eee60bdce5654e8881ffffffffffffffffffffffffffffffffffffffffffffffffffffffffffffffff',\n",
       "   'from_address': '0xbf87bfcaf948c853cb4edbf07cb8dab80319fc5e'},\n",
       "  {'hash': '0x75c5429b5fb4b6f18ef64289e3b15f676052c096b7081a971dc6faf2986ce654',\n",
       "   'block_number': 15310037,\n",
       "   'input': '0x095ea7b30000000000000000000000009eb5f8e83359bb5013f3d8eee60bdce5654e8881ffffffffffffffffffffffffffffffffffffffffffffffffffffffffffffffff',\n",
       "   'from_address': '0x8c35933c469406c8899882f5c2119649cd5b617f'},\n",
       "  {'hash': '0xcafbd295f84c2747c3486284c27e13249c77a1a6afddccf35a7fefe716b34749',\n",
       "   'block_number': 15310155,\n",
       "   'input': '0x095ea7b30000000000000000000000009eb5f8e83359bb5013f3d8eee60bdce5654e88810000000000000000000000000000000000000000000000000000000000000000',\n",
       "   'from_address': '0x8c35933c469406c8899882f5c2119649cd5b617f'},\n",
       "  {'hash': '0xec72bb412a3e56519af8cf96f7de56edb80de53c1d1b656d2e5d5d8ce2477f69',\n",
       "   'block_number': 15309929,\n",
       "   'input': '0x095ea7b30000000000000000000000009eb5f8e83359bb5013f3d8eee60bdce5654e88810000000000000000000000000000000000000000000000000000005d2f66e130',\n",
       "   'from_address': '0xb30ca7383dbd1ac31459e8e1de3bcb022a1db001'},\n",
       "  {'hash': '0xe9947863bb930454f4a5f576993b131005618e6644d751f0768aadd69391755d',\n",
       "   'block_number': 15310240,\n",
       "   'input': '0x095ea7b30000000000000000000000009eb5f8e83359bb5013f3d8eee60bdce5654e8881ffffffffffffffffffffffffffffffffffffffffffffffffffffffffffffffff',\n",
       "   'from_address': '0xb97f255b37eef7d47dbe1debbecd1f2ecfc37abe'},\n",
       "  {'hash': '0xfd77f22ff41a706f3247116ad51eaf8734fac63b68e6d8a17c8113aa9cf77e99',\n",
       "   'block_number': 15309745,\n",
       "   'input': '0x095ea7b30000000000000000000000009eb5f8e83359bb5013f3d8eee60bdce5654e8881ffffffffffffffffffffffffffffffffffffffffffffffffffffffffffffffff',\n",
       "   'from_address': '0x986680f665eb6fb6f72c9df209468e3426517bc6'}]}"
      ]
     },
     "execution_count": 41,
     "metadata": {},
     "output_type": "execute_result"
    }
   ],
   "source": [
    "# get all approved transactions of the victim's addresses.\n",
    "\n",
    "approved_txs = {}\n",
    "\n",
    "for asset in asset_lost_results.keys():\n",
    "    response = queryLuabase(f\"select hash,block_number, input,from_address from ethereum.transactions WHERE to_address = '{asset}' AND input LIKE '%0x{approve_method_id}000000000000000000000000{contract_address}%' AND block_number < 15310286\")\n",
    "    approved_txs[asset] = response\n",
    "\n",
    "approved_txs\n"
   ]
  },
  {
   "cell_type": "code",
   "execution_count": 42,
   "metadata": {},
   "outputs": [
    {
     "name": "stdout",
     "output_type": "stream",
     "text": [
      "['0xc705faf7a01faaf50198ae32a8e1e8b3a60b18bb', '0xb3e08599ac57666be68dbb3d311b9c607900a83b']\n"
     ]
    }
   ],
   "source": [
    "# get addresses that potentially did not get assets stolen\n",
    "\n",
    "potential_victim_addresses = []\n",
    "\n",
    "for key in approved_txs.keys():\n",
    "    approved_txs[key] = list(filter(lambda k: k['input'] != '0x095ea7b30000000000000000000000009eb5f8e83359bb5013f3d8eee60bdce5654e88810000000000000000000000000000000000000000000000000000000000000000',approved_txs[key]))\n",
    "\n",
    "    potential_victim_addresses.extend([ sub['from_address'] for sub in approved_txs[key] ])\n",
    "\n",
    "\n",
    "\n",
    "victim_addresses = [ sub['victim_from_address'] for sub in final_data ]\n",
    "\n",
    "# print(victim_addresses, len(victim_addresses))\n",
    "# print(potential_victim_addresses, len(potential_victim_addresses))\n",
    "\n",
    "approved_but_unaffected_victims = list(set(victim_addresses).symmetric_difference(set(potential_victim_addresses)))\n",
    "\n",
    "print(approved_but_unaffected_victims)"
   ]
  },
  {
   "cell_type": "code",
   "execution_count": 66,
   "metadata": {},
   "outputs": [
    {
     "data": {
      "text/plain": [
       "[{'block_number': 15310351,\n",
       "  'hash': '0xf2d0a2a2d8c9c178cb657724658b61f52b9c1028fd76ed945936493667ea4372',\n",
       "  'to_address': '0xd90e2f925da726b50c4ed8d0fb90ad053324f31b',\n",
       "  'value_eth': 1.0,\n",
       "  'tag': 'Tornado.Cash: Router'},\n",
       " {'block_number': 15309715,\n",
       "  'hash': '0xeaebd96cd99db2f27165d761f6d69c0222714214678c47541827d63a6a0f5359',\n",
       "  'to_address': '0x45470961fb25789654fcfc391baf77019051ef78',\n",
       "  'value_eth': 0.1,\n",
       "  'tag': ''},\n",
       " {'block_number': 15310385,\n",
       "  'hash': '0xf6e13e7c8606f181e6a61da62f523e771ed20d523356ce691a0ecfa0058dc379',\n",
       "  'to_address': '0xd90e2f925da726b50c4ed8d0fb90ad053324f31b',\n",
       "  'value_eth': 0.1,\n",
       "  'tag': 'Tornado.Cash: Router'},\n",
       " {'block_number': 15310366,\n",
       "  'hash': '0xd917bc4ae6207e0aad066eae5fd309c077b94aef2b1953c659f6faec2aa340cf',\n",
       "  'to_address': '0xd90e2f925da726b50c4ed8d0fb90ad053324f31b',\n",
       "  'value_eth': 1.0,\n",
       "  'tag': 'Tornado.Cash: Router'},\n",
       " {'block_number': 15310377,\n",
       "  'hash': '0xd118f1db41f3f46835d223511406c340b41f1f50cf741e0b1ec9945d68db5a64',\n",
       "  'to_address': '0xd90e2f925da726b50c4ed8d0fb90ad053324f31b',\n",
       "  'value_eth': 0.1,\n",
       "  'tag': 'Tornado.Cash: Router'},\n",
       " {'block_number': 15310380,\n",
       "  'hash': '0xd98aa6edaaf61a5e14f2c7545a6d887acc467c9db1a4f5a7e30b0afcded7630c',\n",
       "  'to_address': '0xd90e2f925da726b50c4ed8d0fb90ad053324f31b',\n",
       "  'value_eth': 0.1,\n",
       "  'tag': 'Tornado.Cash: Router'},\n",
       " {'block_number': 15310409,\n",
       "  'hash': '0xd127c04c25adada5de8817e4e577ba71d15aa1a11bd2f1100ef59afd16f53375',\n",
       "  'to_address': '0xd90e2f925da726b50c4ed8d0fb90ad053324f31b',\n",
       "  'value_eth': 0.1,\n",
       "  'tag': 'Tornado.Cash: Router'},\n",
       " {'block_number': 15310223,\n",
       "  'hash': '0x2e76259606c3f4fc2842e1dce99c2631753c4526b7c615312f2a65b285689d48',\n",
       "  'to_address': '0x06c339416d76fce9ca8a7a66b4aedbe7301826d7',\n",
       "  'value_eth': 45.0,\n",
       "  'tag': ''},\n",
       " {'block_number': 15310242,\n",
       "  'hash': '0x5108cd31c7a16727275d2f55fe2a31f2f3f20cd3821c485b1917d9411c97fb70',\n",
       "  'to_address': '0xc3e20d299084b7017ad44e6cd2ba0a1d39ab2e31',\n",
       "  'value_eth': 45.0,\n",
       "  'tag': ''},\n",
       " {'block_number': 15310252,\n",
       "  'hash': '0x069620d1f2b81edfa8f6ff25e3f45f53e43378e7fc9f637f7d227ed8e27fbec8',\n",
       "  'to_address': '0xc137c19946724f76e65bb0efb81ddcf895d6472c',\n",
       "  'value_eth': 45.0,\n",
       "  'tag': ''},\n",
       " {'block_number': 15310290,\n",
       "  'hash': '0x57da7f38aa453f08804de988bb093c6e359a90c3e753609f9d29e26d78225e30',\n",
       "  'to_address': '0xb6d318c4d1618eb8dcc2e8c09600397f0daae8b0',\n",
       "  'value_eth': 22.0,\n",
       "  'tag': ''},\n",
       " {'block_number': 15310346,\n",
       "  'hash': '0x4e075081bae2bb563de623d26636a279f119b4ad325bc9bfc0b92a2609cde01b',\n",
       "  'to_address': '0xd90e2f925da726b50c4ed8d0fb90ad053324f31b',\n",
       "  'value_eth': 10.0,\n",
       "  'tag': 'Tornado.Cash: Router'},\n",
       " {'block_number': 15310348,\n",
       "  'hash': '0x05d859633cb0f17155903503a656ba4c1b60f8d88db7be432f3c4f8413137d3a',\n",
       "  'to_address': '0xd90e2f925da726b50c4ed8d0fb90ad053324f31b',\n",
       "  'value_eth': 1.0,\n",
       "  'tag': 'Tornado.Cash: Router'},\n",
       " {'block_number': 15310358,\n",
       "  'hash': '0x1b18fac414d5c25f964267c7150062765a7967c0c9e193ef97e0ab044c661438',\n",
       "  'to_address': '0xd90e2f925da726b50c4ed8d0fb90ad053324f31b',\n",
       "  'value_eth': 1.0,\n",
       "  'tag': 'Tornado.Cash: Router'},\n",
       " {'block_number': 15310362,\n",
       "  'hash': '0x0c86bc562b45562a95c94baa94e0636d4a0dc9c6209a2d52f7bf63ca335a325c',\n",
       "  'to_address': '0xd90e2f925da726b50c4ed8d0fb90ad053324f31b',\n",
       "  'value_eth': 1.0,\n",
       "  'tag': 'Tornado.Cash: Router'},\n",
       " {'block_number': 15310363,\n",
       "  'hash': '0x3d60304431a05338e945dd7e00db0601b119f8e642295851ce3d5d64658bc838',\n",
       "  'to_address': '0xd90e2f925da726b50c4ed8d0fb90ad053324f31b',\n",
       "  'value_eth': 1.0,\n",
       "  'tag': 'Tornado.Cash: Router'},\n",
       " {'block_number': 15310372,\n",
       "  'hash': '0x0a1517e095797ac19000baf9fdad5bd5da3d04d34077b14486272b08b3bab9a7',\n",
       "  'to_address': '0xd90e2f925da726b50c4ed8d0fb90ad053324f31b',\n",
       "  'value_eth': 1.0,\n",
       "  'tag': 'Tornado.Cash: Router'},\n",
       " {'block_number': 15310392,\n",
       "  'hash': '0x47eb7d03ee39896d35c0ef93eebff0f7da470261db125baaed8b951717e9c88b',\n",
       "  'to_address': '0xd90e2f925da726b50c4ed8d0fb90ad053324f31b',\n",
       "  'value_eth': 0.1,\n",
       "  'tag': 'Tornado.Cash: Router'},\n",
       " {'block_number': 15310414,\n",
       "  'hash': '0x0e72b05c3320d0f405d024e2b05b2aaf2abb608861a99993349add958ac5d72d',\n",
       "  'to_address': '0xd90e2f925da726b50c4ed8d0fb90ad053324f31b',\n",
       "  'value_eth': 0.1,\n",
       "  'tag': 'Tornado.Cash: Router'},\n",
       " {'block_number': 15310211,\n",
       "  'hash': '0x8d9490726efeb97cd4671d214ec0718c9b0195ef1df2a1bf74af06487a29d35d',\n",
       "  'to_address': '0x081697e6b97e9a0e332e27b82b7264c6d5700711',\n",
       "  'value_eth': 45.0,\n",
       "  'tag': ''},\n",
       " {'block_number': 15310224,\n",
       "  'hash': '0x83b67cf16d16afdb277025ecd5142b029cf946fb418d2d8deb1860d313bc48b6',\n",
       "  'to_address': '0x23aa03289def8cc3a1343ed7de8fc23ac7c7690f',\n",
       "  'value_eth': 45.0,\n",
       "  'tag': ''},\n",
       " {'block_number': 15310258,\n",
       "  'hash': '0x9cd97212197725d172f5222b7044cab025a19c834ada9b2db76c882b9ca21ac1',\n",
       "  'to_address': '0x3d89db60550dbedacd729cc6575244445246e399',\n",
       "  'value_eth': 45.0,\n",
       "  'tag': ''},\n",
       " {'block_number': 15310284,\n",
       "  'hash': '0x72d7459d59814e8a67b3e8a30bd5d0c99ffeda2d40b836befa1e8468a3de42ce',\n",
       "  'to_address': '0xb50009a308aad52d0e295757d22ea69f3169866f',\n",
       "  'value_eth': 23.0,\n",
       "  'tag': ''},\n",
       " {'block_number': 15310315,\n",
       "  'hash': '0xc61aaef61fe7f646188067e5021b466d37d5b0dcc36488e62473a0137cfd13f4',\n",
       "  'to_address': '0x8652a44350ac14af3f534a339e1fae096be5eae5',\n",
       "  'value_eth': 20.0,\n",
       "  'tag': ''},\n",
       " {'block_number': 15310342,\n",
       "  'hash': '0xc1045e9a253cd29ea88b244ec6a891d92c8822a73c765571ded8fec4e0daf675',\n",
       "  'to_address': '0xd90e2f925da726b50c4ed8d0fb90ad053324f31b',\n",
       "  'value_eth': 10.0,\n",
       "  'tag': 'Tornado.Cash: Router'},\n",
       " {'block_number': 15310396,\n",
       "  'hash': '0x7c716a8eebfe335d8910c16b857159fb0363441e4c79473c64fc3949d778c1ba',\n",
       "  'to_address': '0xd90e2f925da726b50c4ed8d0fb90ad053324f31b',\n",
       "  'value_eth': 0.1,\n",
       "  'tag': 'Tornado.Cash: Router'}]"
      ]
     },
     "execution_count": 66,
     "metadata": {},
     "output_type": "execute_result"
    }
   ],
   "source": [
    "# query list of txs that hacker cashes out (eth to other platform). value_eth >= 0.1 based on etherscan\n",
    "response = queryLuabase(f\"select block_number, hash, to_address, value_eth, tag from ethereum.transactions as t left join ethereum.tags as tags on t.to_address = tags.address WHERE t.value_eth >= 0.1 and t.from_address = '{to_address}'\")\n",
    "response\n",
    "\n",
    "            "
   ]
  },
  {
   "cell_type": "code",
   "execution_count": 70,
   "metadata": {},
   "outputs": [
    {
     "name": "stdout",
     "output_type": "stream",
     "text": [
      "[{'value_eth': 27.700000000000003, 'tag': 'Tornado.Cash: Router'}]\n",
      "[{'block_number': 15309715, 'hash': '0xeaebd96cd99db2f27165d761f6d69c0222714214678c47541827d63a6a0f5359', 'to_address': '0x45470961fb25789654fcfc391baf77019051ef78', 'value_eth': 0.1, 'tag': ''}, {'block_number': 15310223, 'hash': '0x2e76259606c3f4fc2842e1dce99c2631753c4526b7c615312f2a65b285689d48', 'to_address': '0x06c339416d76fce9ca8a7a66b4aedbe7301826d7', 'value_eth': 45.0, 'tag': ''}, {'block_number': 15310242, 'hash': '0x5108cd31c7a16727275d2f55fe2a31f2f3f20cd3821c485b1917d9411c97fb70', 'to_address': '0xc3e20d299084b7017ad44e6cd2ba0a1d39ab2e31', 'value_eth': 45.0, 'tag': ''}, {'block_number': 15310252, 'hash': '0x069620d1f2b81edfa8f6ff25e3f45f53e43378e7fc9f637f7d227ed8e27fbec8', 'to_address': '0xc137c19946724f76e65bb0efb81ddcf895d6472c', 'value_eth': 45.0, 'tag': ''}, {'block_number': 15310290, 'hash': '0x57da7f38aa453f08804de988bb093c6e359a90c3e753609f9d29e26d78225e30', 'to_address': '0xb6d318c4d1618eb8dcc2e8c09600397f0daae8b0', 'value_eth': 22.0, 'tag': ''}, {'block_number': 15310211, 'hash': '0x8d9490726efeb97cd4671d214ec0718c9b0195ef1df2a1bf74af06487a29d35d', 'to_address': '0x081697e6b97e9a0e332e27b82b7264c6d5700711', 'value_eth': 45.0, 'tag': ''}, {'block_number': 15310224, 'hash': '0x83b67cf16d16afdb277025ecd5142b029cf946fb418d2d8deb1860d313bc48b6', 'to_address': '0x23aa03289def8cc3a1343ed7de8fc23ac7c7690f', 'value_eth': 45.0, 'tag': ''}, {'block_number': 15310258, 'hash': '0x9cd97212197725d172f5222b7044cab025a19c834ada9b2db76c882b9ca21ac1', 'to_address': '0x3d89db60550dbedacd729cc6575244445246e399', 'value_eth': 45.0, 'tag': ''}, {'block_number': 15310284, 'hash': '0x72d7459d59814e8a67b3e8a30bd5d0c99ffeda2d40b836befa1e8468a3de42ce', 'to_address': '0xb50009a308aad52d0e295757d22ea69f3169866f', 'value_eth': 23.0, 'tag': ''}, {'block_number': 15310315, 'hash': '0xc61aaef61fe7f646188067e5021b466d37d5b0dcc36488e62473a0137cfd13f4', 'to_address': '0x8652a44350ac14af3f534a339e1fae096be5eae5', 'value_eth': 20.0, 'tag': ''}]\n"
     ]
    }
   ],
   "source": [
    "# filter cash out based on tag\n",
    "\n",
    "cash_out_only_tags = []\n",
    "cash_out_known_tags = []\n",
    "cash_out_unknown_tags = []\n",
    "\n",
    "for r in response:\n",
    "    reduced_r = {'value_eth':r['value_eth'], 'tag': r['tag']}\n",
    "    if r['tag'] == '':\n",
    "        cash_out_unknown_tags.append(r)\n",
    "        continue\n",
    "\n",
    "    if r['tag'] not in cash_out_only_tags:\n",
    "        cash_out_only_tags.append(r['tag'])\n",
    "        cash_out_known_tags.append(reduced_r)\n",
    "        continue\n",
    "\n",
    "    for c in cash_out_known_tags:\n",
    "        if r['tag'] == c['tag']:\n",
    "            c['value_eth'] += r['value_eth']\n",
    "            break\n",
    "\n",
    "print(cash_out_known_tags)\n",
    "print(cash_out_unknown_tags)"
   ]
  },
  {
   "cell_type": "code",
   "execution_count": 94,
   "metadata": {},
   "outputs": [
    {
     "data": {
      "text/plain": [
       "[[],\n",
       " [{'block_number': 15310245,\n",
       "   'hash': '0x5cbe818b9bbfa4344e48c8bb5d37c0eecdcde8b15613c6823ff13d0af72c353d',\n",
       "   'to_address': '0x4e5b2e1dc63f6b91cb6cd759936495434c7e972f',\n",
       "   'value_eth': 44.99972700000001,\n",
       "   'tag': 'FixedFloat'}],\n",
       " [{'block_number': 15310300,\n",
       "   'hash': '0x22df8dee167bbf32bfecca2aa1aa33487402a3c840383f0b9b4dced215553d54',\n",
       "   'to_address': '0x4e5b2e1dc63f6b91cb6cd759936495434c7e972f',\n",
       "   'value_eth': 44.999706,\n",
       "   'tag': 'FixedFloat'}],\n",
       " [{'block_number': 15310274,\n",
       "   'hash': '0x64fdd3998e60b98058d524dd5c9ea7c22db039a276e3594501fd18aee9f08bd4',\n",
       "   'to_address': '0x4e5b2e1dc63f6b91cb6cd759936495434c7e972f',\n",
       "   'value_eth': 44.999391,\n",
       "   'tag': 'FixedFloat'}],\n",
       " [{'block_number': 15310304,\n",
       "   'hash': '0x81df74a39265d6f85e19ec0954c90e393d6df4bf7f250ddf0c31dfe580d1dbb1',\n",
       "   'to_address': '0x4e5b2e1dc63f6b91cb6cd759936495434c7e972f',\n",
       "   'value_eth': 21.999643,\n",
       "   'tag': 'FixedFloat'}],\n",
       " [{'block_number': 15310229,\n",
       "   'hash': '0x2eef64d081a222a9d1667d27caf76a1034eba96cd42f7130000a4c0ccbe62793',\n",
       "   'to_address': '0x4e5b2e1dc63f6b91cb6cd759936495434c7e972f',\n",
       "   'value_eth': 44.99968499999999,\n",
       "   'tag': 'FixedFloat'}],\n",
       " [{'block_number': 15310247,\n",
       "   'hash': '0x40795cad2d0122708c29a831e7a341f328d90f05e6e2fca2110af79b97eaf31b',\n",
       "   'to_address': '0x4e5b2e1dc63f6b91cb6cd759936495434c7e972f',\n",
       "   'value_eth': 44.999706,\n",
       "   'tag': 'FixedFloat'}],\n",
       " [{'block_number': 15310288,\n",
       "   'hash': '0x87ca0c7d739deedd13ad8c24e467570f4743ba7f850c2191d53d0153fbc50bb4',\n",
       "   'to_address': '0x4e5b2e1dc63f6b91cb6cd759936495434c7e972f',\n",
       "   'value_eth': 44.999559000000005,\n",
       "   'tag': 'FixedFloat'}],\n",
       " [{'block_number': 15310287,\n",
       "   'hash': '0xbc121103bd696761df3fea4a2751705db9a363e4f8284fef7b49c9bfb82c05c9',\n",
       "   'to_address': '0xcdd37ada79f589c15bd4f8fd2083dc88e34a2af2',\n",
       "   'value_eth': 22.999450053588944,\n",
       "   'tag': ''}],\n",
       " [{'block_number': 15310398,\n",
       "   'hash': '0x1f23e149064e2260ba6ca5d40655fb0043e6e5dd641085bb53fccd3609c77d05',\n",
       "   'to_address': '0x28c6c06298d514db089934071355e5743bf21d60',\n",
       "   'value_eth': 19.997937,\n",
       "   'tag': 'Binance 14'}]]"
      ]
     },
     "execution_count": 94,
     "metadata": {},
     "output_type": "execute_result"
    }
   ],
   "source": [
    "# collect cash out txs for unknown tags. These addresses are also from hacker's\n",
    "# reuse var\n",
    "cash_out_new_known_tags = []\n",
    "for c in cash_out_unknown_tags:\n",
    "    response = queryLuabase(f\"select block_number, hash, to_address, value_eth, tag from ethereum.transactions as t left join ethereum.tags as tags on t.to_address = tags.address WHERE t.value_eth >= 0.1 and t.from_address = '{c['to_address']}'\")\n",
    "    cash_out_new_known_tags.append(response)\n",
    "\n",
    "cash_out_new_known_tags"
   ]
  },
  {
   "cell_type": "code",
   "execution_count": 97,
   "metadata": {},
   "outputs": [
    {
     "data": {
      "text/plain": [
       "[{'value_eth': 291.99741700000004, 'tag': 'FixedFloat'},\n",
       " {'value_eth': 19.997937, 'tag': 'Binance 14'}]"
      ]
     },
     "execution_count": 97,
     "metadata": {},
     "output_type": "execute_result"
    }
   ],
   "source": [
    "tags = []\n",
    "only_tags = []\n",
    "\n",
    "for c in cash_out_new_known_tags:\n",
    "    for cc in c:\n",
    "        reduced_c = {'value_eth':cc['value_eth'], 'tag': cc['tag']}\n",
    "        if cc['tag'] == '':\n",
    "            continue\n",
    "\n",
    "        if cc['tag'] not in only_tags:\n",
    "            only_tags.append(cc['tag'])\n",
    "            tags.append(reduced_c)\n",
    "            continue\n",
    "\n",
    "        for t in tags:\n",
    "            if cc['tag'] == t['tag']:\n",
    "                t['value_eth'] += cc['value_eth']\n",
    "                break\n",
    "\n",
    "tags"
   ]
  }
 ],
 "metadata": {
  "kernelspec": {
   "display_name": "Python 3.8.13 ('CPSC5910')",
   "language": "python",
   "name": "python3"
  },
  "language_info": {
   "codemirror_mode": {
    "name": "ipython",
    "version": 3
   },
   "file_extension": ".py",
   "mimetype": "text/x-python",
   "name": "python",
   "nbconvert_exporter": "python",
   "pygments_lexer": "ipython3",
   "version": "3.8.13"
  },
  "orig_nbformat": 4,
  "vscode": {
   "interpreter": {
    "hash": "d324f828b37aa5c2f631371e9406361f9a97092a5b9c3d4e76f4018a82273078"
   }
  }
 },
 "nbformat": 4,
 "nbformat_minor": 2
}
