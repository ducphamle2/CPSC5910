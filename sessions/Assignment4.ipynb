{
 "cells": [
  {
   "cell_type": "code",
   "execution_count": 2,
   "metadata": {},
   "outputs": [
    {
     "name": "stdout",
     "output_type": "stream",
     "text": [
      "https://eth-mainnet.g.alchemy.com/v2/ijJO4itJUqeZKYq1VLZv9wVldr43aTuT\n"
     ]
    }
   ],
   "source": [
    "import requests\n",
    "import json\n",
    "from dotenv import load_dotenv\n",
    "import os\n",
    "from web3 import Web3\n",
    "import pandas as pd\n",
    "load_dotenv()  # have your rpc endpoint in .env file to prevent accidental commit to github\n",
    "\n",
    "to_address = '0x50f9202e0f1c1577822bd67193960b213cd2f331' # hacker EOA\n",
    "contract_address = '9eb5f8e83359bb5013f3d8eee60bdce5654e8881' # hacker contract\n",
    "approve_method_id = '095ea7b3'\n",
    "url = \"https://q.luabase.com/run\"\n",
    "\n",
    "# connect to the RPC endpoint\n",
    "rpc_endpoint_address='https://eth-mainnet.g.alchemy.com/v2/ijJO4itJUqeZKYq1VLZv9wVldr43aTuT'\n",
    "print(rpc_endpoint_address)\n",
    "w3 = Web3(Web3.HTTPProvider(rpc_endpoint_address))\n",
    "\n",
    "def queryLuabase(sql):\n",
    "    headers = {\"content-type\": \"application/json\"}\n",
    "    payload = {\n",
    "        \"block\": {\n",
    "            \"details\": {\n",
    "            \"sql\": sql,\n",
    "            }\n",
    "        },\n",
    "        \"api_key\": os.environ.get('LUABASE_API_KEY')\n",
    "    }\n",
    "\n",
    "    res = requests.request(\"POST\", url, json=payload, headers=headers).json()\n",
    "    if res['data'] is not None:\n",
    "        return res['data']\n",
    "    return res"
   ]
  },
  {
   "cell_type": "code",
   "execution_count": 3,
   "metadata": {},
   "outputs": [
    {
     "data": {
      "text/plain": [
       "11"
      ]
     },
     "execution_count": 3,
     "metadata": {},
     "output_type": "execute_result"
    }
   ],
   "source": [
    "# collect list of erc20 tranfer txs that were sent to the hacker's address\n",
    "transfer_data = queryLuabase(f\"select from_address as victim_from_address,token_address as erc20_token_address,to_address as hacker_to_address,transaction_hash, value as amount, block_number FROM ethereum.token_transfers AS t WHERE t.to_address = '{to_address}' AND t.block_number >= 15213261\")\n",
    "len(transfer_data)\n"
   ]
  },
  {
   "cell_type": "code",
   "execution_count": 4,
   "metadata": {},
   "outputs": [
    {
     "data": {
      "text/plain": [
       "9"
      ]
     },
     "execution_count": 4,
     "metadata": {},
     "output_type": "execute_result"
    }
   ],
   "source": [
    "# collect list of txs that have the withdraw erc20 balance method id of victim's addresses & the address called is the hacker's contract. \n",
    "transaction_data = queryLuabase(f\"select from_address,to_address,hash,block_number FROM ethereum.transactions AS t where t.input LIKE '%0x9c307de6%' AND t.to_address = '0x{contract_address}'\")\n",
    "len(transaction_data)"
   ]
  },
  {
   "cell_type": "code",
   "execution_count": 5,
   "metadata": {},
   "outputs": [
    {
     "name": "stdout",
     "output_type": "stream",
     "text": [
      "9\n",
      "0x45470961fb25789654fcfc391baf77019051ef78\n",
      "0x986680f665eb6fb6f72c9df209468e3426517bc6\n",
      "0x056fc75753bd75ea28b5966c4bea29f4ad49321c\n",
      "0xb30ca7383dbd1ac31459e8e1de3bcb022a1db001\n",
      "0x4436f5dd7bc4a63bcd86a33ba2862fdbf242c76e\n",
      "0xb97f255b37eef7d47dbe1debbecd1f2ecfc37abe\n",
      "0x1a2a910185467dab98c3c04eee38ac6dbbc3b0d5\n",
      "0xbf87bfcaf948c853cb4edbf07cb8dab80319fc5e\n",
      "0x8c35933c469406c8899882f5c2119649cd5b617f\n"
     ]
    }
   ],
   "source": [
    "# collect victim's addresses\n",
    "final_data = []\n",
    "for t in transfer_data:\n",
    "    for tx in transaction_data:\n",
    "        if t['transaction_hash'] == tx['hash']:\n",
    "            # print(tx)\n",
    "            t['hacker_contract_address'] = tx['to_address']\n",
    "            final_data.append(t)\n",
    "\n",
    "print(len(final_data))\n",
    "for data in final_data:\n",
    "    print(data['victim_from_address'])"
   ]
  },
  {
   "cell_type": "code",
   "execution_count": 6,
   "metadata": {},
   "outputs": [
    {
     "data": {
      "text/plain": [
       "{'victim_from_address': '0x45470961fb25789654fcfc391baf77019051ef78',\n",
       " 'erc20_token_address': '0xa0b86991c6218b36c1d19d4a2e9eb0ce3606eb48',\n",
       " 'hacker_to_address': '0x50f9202e0f1c1577822bd67193960b213cd2f331',\n",
       " 'transaction_hash': '0x3fb7c60fea183a77bf548858cbb1d77c2a824373822bb6bbb32e69c1d2188a1c',\n",
       " 'amount': 16880678,\n",
       " 'block_number': 15309725,\n",
       " 'hacker_contract_address': '0x9eb5f8e83359bb5013f3d8eee60bdce5654e8881',\n",
       " 'erc20_decimals': 6,\n",
       " 'erc20_symbol': 'USDC'}"
      ]
     },
     "execution_count": 6,
     "metadata": {},
     "output_type": "execute_result"
    }
   ],
   "source": [
    "# get erc20 information to calcuate the total assets stolen. \n",
    "unique_erc20s = {}\n",
    "\n",
    "assets = []\n",
    "for f in final_data:\n",
    "    erc20 = f['erc20_token_address']\n",
    "    if erc20 not in unique_erc20s:\n",
    "        response = queryLuabase(f\"select symbol, decimals from ethereum.tokens as t WHERE t.address = '{erc20}'\")[0]\n",
    "        unique_erc20s[erc20] = {'erc20_decimals': response['decimals'], 'erc20_symbol': response['symbol']}\n",
    "    f.update(unique_erc20s[erc20])\n",
    "\n",
    "final_data[0]\n"
   ]
  },
  {
   "cell_type": "code",
   "execution_count": 7,
   "metadata": {},
   "outputs": [
    {
     "name": "stdout",
     "output_type": "stream",
     "text": [
      "         0x45470961fb25789654fcfc391baf77019051ef78  \\\n",
      "decimals                                          6   \n",
      "amount                                    16.880678   \n",
      "symbol                                         USDC   \n",
      "\n",
      "         0x986680f665eb6fb6f72c9df209468e3426517bc6  \\\n",
      "decimals                                          6   \n",
      "amount                                   128.411853   \n",
      "symbol                                         USDC   \n",
      "\n",
      "         0x056fc75753bd75ea28b5966c4bea29f4ad49321c  \\\n",
      "decimals                                         18   \n",
      "amount                                  2457.906334   \n",
      "symbol                                          DAI   \n",
      "\n",
      "         0xb30ca7383dbd1ac31459e8e1de3bcb022a1db001  \\\n",
      "decimals                                          6   \n",
      "amount                                    400227.23   \n",
      "symbol                                         USDC   \n",
      "\n",
      "         0x4436f5dd7bc4a63bcd86a33ba2862fdbf242c76e  \\\n",
      "decimals                                          6   \n",
      "amount                                      99900.0   \n",
      "symbol                                         USDC   \n",
      "\n",
      "         0xb97f255b37eef7d47dbe1debbecd1f2ecfc37abe  \\\n",
      "decimals                                          6   \n",
      "amount                                 42153.986078   \n",
      "symbol                                         USDC   \n",
      "\n",
      "         0x1a2a910185467dab98c3c04eee38ac6dbbc3b0d5  \\\n",
      "decimals                                         18   \n",
      "amount                                   4000.91743   \n",
      "symbol                                          DAI   \n",
      "\n",
      "         0xbf87bfcaf948c853cb4edbf07cb8dab80319fc5e  \\\n",
      "decimals                                          6   \n",
      "amount                                 44919.306557   \n",
      "symbol                                         USDC   \n",
      "\n",
      "         0x8c35933c469406c8899882f5c2119649cd5b617f  \n",
      "decimals                                          6  \n",
      "amount                                 18919.510102  \n",
      "symbol                                         USDC  \n"
     ]
    }
   ],
   "source": [
    "erc20_lost_per_victims = {}\n",
    "for erc20 in final_data:\n",
    "    if erc20['erc20_symbol'] not in erc20_lost_per_victims.keys():\n",
    "        erc20_lost_per_victims[erc20['victim_from_address']] = {'decimals': erc20['erc20_decimals'], 'amount': erc20['amount'], 'symbol': erc20['erc20_symbol']}\n",
    "    else:\n",
    "        erc20_lost_per_victims[erc20['victim_from_address']].update({'amount': erc20_lost_per_victims[erc20['victim_from_address']]['amount'] + erc20['amount']})\n",
    "\n",
    "for victim in erc20_lost_per_victims.keys():\n",
    "    erc20_lost_per_victims[victim]['amount'] = erc20_lost_per_victims[victim]['amount'] / pow(10, erc20_lost_per_victims[victim]['decimals'])\n",
    "\n",
    "df = pd.DataFrame(erc20_lost_per_victims)\n",
    "print(df)"
   ]
  },
  {
   "cell_type": "code",
   "execution_count": 8,
   "metadata": {},
   "outputs": [
    {
     "data": {
      "text/plain": [
       "{'0xa0b86991c6218b36c1d19d4a2e9eb0ce3606eb48': {'amount': 606265.325268,\n",
       "  'decimals': 6,\n",
       "  'symbol': 'USDC'},\n",
       " '0x6b175474e89094c44da98b954eedeac495271d0f': {'amount': 6458.823763845549,\n",
       "  'decimals': 18,\n",
       "  'symbol': 'DAI'}}"
      ]
     },
     "execution_count": 8,
     "metadata": {},
     "output_type": "execute_result"
    }
   ],
   "source": [
    "# calculate total assets stolen based on the ERC20 information & transaction data retrieved\n",
    "\n",
    "asset_lost_results = {}\n",
    "\n",
    "for f in final_data:\n",
    "    erc20 = f['erc20_token_address']\n",
    "    if erc20 not in asset_lost_results:\n",
    "        asset_lost_results[erc20] = {'amount': f['amount'], 'decimals': f['erc20_decimals'], 'symbol': f['erc20_symbol']}\n",
    "    else:\n",
    "        asset_lost_results[erc20].update({'amount': f['amount'] + asset_lost_results[erc20]['amount']})\n",
    "\n",
    "for asset in asset_lost_results.keys():\n",
    "    asset_lost_results[asset]['amount'] = asset_lost_results[asset]['amount'] / pow(10, asset_lost_results[asset]['decimals'])\n",
    "\n",
    "asset_lost_results"
   ]
  },
  {
   "cell_type": "code",
   "execution_count": 9,
   "metadata": {},
   "outputs": [
    {
     "data": {
      "text/plain": [
       "[{'block_number': 15310385,\n",
       "  'hash': '0xf6e13e7c8606f181e6a61da62f523e771ed20d523356ce691a0ecfa0058dc379',\n",
       "  'to_address': '0xd90e2f925da726b50c4ed8d0fb90ad053324f31b',\n",
       "  'value_eth': 0.1,\n",
       "  'tag': 'Tornado.Cash: Router'},\n",
       " {'block_number': 15310223,\n",
       "  'hash': '0x2e76259606c3f4fc2842e1dce99c2631753c4526b7c615312f2a65b285689d48',\n",
       "  'to_address': '0x06c339416d76fce9ca8a7a66b4aedbe7301826d7',\n",
       "  'value_eth': 45.0,\n",
       "  'tag': ''},\n",
       " {'block_number': 15310242,\n",
       "  'hash': '0x5108cd31c7a16727275d2f55fe2a31f2f3f20cd3821c485b1917d9411c97fb70',\n",
       "  'to_address': '0xc3e20d299084b7017ad44e6cd2ba0a1d39ab2e31',\n",
       "  'value_eth': 45.0,\n",
       "  'tag': ''},\n",
       " {'block_number': 15310252,\n",
       "  'hash': '0x069620d1f2b81edfa8f6ff25e3f45f53e43378e7fc9f637f7d227ed8e27fbec8',\n",
       "  'to_address': '0xc137c19946724f76e65bb0efb81ddcf895d6472c',\n",
       "  'value_eth': 45.0,\n",
       "  'tag': ''},\n",
       " {'block_number': 15310290,\n",
       "  'hash': '0x57da7f38aa453f08804de988bb093c6e359a90c3e753609f9d29e26d78225e30',\n",
       "  'to_address': '0xb6d318c4d1618eb8dcc2e8c09600397f0daae8b0',\n",
       "  'value_eth': 22.0,\n",
       "  'tag': ''},\n",
       " {'block_number': 15310346,\n",
       "  'hash': '0x4e075081bae2bb563de623d26636a279f119b4ad325bc9bfc0b92a2609cde01b',\n",
       "  'to_address': '0xd90e2f925da726b50c4ed8d0fb90ad053324f31b',\n",
       "  'value_eth': 10.0,\n",
       "  'tag': 'Tornado.Cash: Router'},\n",
       " {'block_number': 15310348,\n",
       "  'hash': '0x05d859633cb0f17155903503a656ba4c1b60f8d88db7be432f3c4f8413137d3a',\n",
       "  'to_address': '0xd90e2f925da726b50c4ed8d0fb90ad053324f31b',\n",
       "  'value_eth': 1.0,\n",
       "  'tag': 'Tornado.Cash: Router'},\n",
       " {'block_number': 15310358,\n",
       "  'hash': '0x1b18fac414d5c25f964267c7150062765a7967c0c9e193ef97e0ab044c661438',\n",
       "  'to_address': '0xd90e2f925da726b50c4ed8d0fb90ad053324f31b',\n",
       "  'value_eth': 1.0,\n",
       "  'tag': 'Tornado.Cash: Router'},\n",
       " {'block_number': 15310362,\n",
       "  'hash': '0x0c86bc562b45562a95c94baa94e0636d4a0dc9c6209a2d52f7bf63ca335a325c',\n",
       "  'to_address': '0xd90e2f925da726b50c4ed8d0fb90ad053324f31b',\n",
       "  'value_eth': 1.0,\n",
       "  'tag': 'Tornado.Cash: Router'},\n",
       " {'block_number': 15310363,\n",
       "  'hash': '0x3d60304431a05338e945dd7e00db0601b119f8e642295851ce3d5d64658bc838',\n",
       "  'to_address': '0xd90e2f925da726b50c4ed8d0fb90ad053324f31b',\n",
       "  'value_eth': 1.0,\n",
       "  'tag': 'Tornado.Cash: Router'},\n",
       " {'block_number': 15310372,\n",
       "  'hash': '0x0a1517e095797ac19000baf9fdad5bd5da3d04d34077b14486272b08b3bab9a7',\n",
       "  'to_address': '0xd90e2f925da726b50c4ed8d0fb90ad053324f31b',\n",
       "  'value_eth': 1.0,\n",
       "  'tag': 'Tornado.Cash: Router'},\n",
       " {'block_number': 15310392,\n",
       "  'hash': '0x47eb7d03ee39896d35c0ef93eebff0f7da470261db125baaed8b951717e9c88b',\n",
       "  'to_address': '0xd90e2f925da726b50c4ed8d0fb90ad053324f31b',\n",
       "  'value_eth': 0.1,\n",
       "  'tag': 'Tornado.Cash: Router'},\n",
       " {'block_number': 15310414,\n",
       "  'hash': '0x0e72b05c3320d0f405d024e2b05b2aaf2abb608861a99993349add958ac5d72d',\n",
       "  'to_address': '0xd90e2f925da726b50c4ed8d0fb90ad053324f31b',\n",
       "  'value_eth': 0.1,\n",
       "  'tag': 'Tornado.Cash: Router'},\n",
       " {'block_number': 15310366,\n",
       "  'hash': '0xd917bc4ae6207e0aad066eae5fd309c077b94aef2b1953c659f6faec2aa340cf',\n",
       "  'to_address': '0xd90e2f925da726b50c4ed8d0fb90ad053324f31b',\n",
       "  'value_eth': 1.0,\n",
       "  'tag': 'Tornado.Cash: Router'},\n",
       " {'block_number': 15310377,\n",
       "  'hash': '0xd118f1db41f3f46835d223511406c340b41f1f50cf741e0b1ec9945d68db5a64',\n",
       "  'to_address': '0xd90e2f925da726b50c4ed8d0fb90ad053324f31b',\n",
       "  'value_eth': 0.1,\n",
       "  'tag': 'Tornado.Cash: Router'},\n",
       " {'block_number': 15310380,\n",
       "  'hash': '0xd98aa6edaaf61a5e14f2c7545a6d887acc467c9db1a4f5a7e30b0afcded7630c',\n",
       "  'to_address': '0xd90e2f925da726b50c4ed8d0fb90ad053324f31b',\n",
       "  'value_eth': 0.1,\n",
       "  'tag': 'Tornado.Cash: Router'},\n",
       " {'block_number': 15310409,\n",
       "  'hash': '0xd127c04c25adada5de8817e4e577ba71d15aa1a11bd2f1100ef59afd16f53375',\n",
       "  'to_address': '0xd90e2f925da726b50c4ed8d0fb90ad053324f31b',\n",
       "  'value_eth': 0.1,\n",
       "  'tag': 'Tornado.Cash: Router'},\n",
       " {'block_number': 15310211,\n",
       "  'hash': '0x8d9490726efeb97cd4671d214ec0718c9b0195ef1df2a1bf74af06487a29d35d',\n",
       "  'to_address': '0x081697e6b97e9a0e332e27b82b7264c6d5700711',\n",
       "  'value_eth': 45.0,\n",
       "  'tag': ''},\n",
       " {'block_number': 15310224,\n",
       "  'hash': '0x83b67cf16d16afdb277025ecd5142b029cf946fb418d2d8deb1860d313bc48b6',\n",
       "  'to_address': '0x23aa03289def8cc3a1343ed7de8fc23ac7c7690f',\n",
       "  'value_eth': 45.0,\n",
       "  'tag': ''},\n",
       " {'block_number': 15310258,\n",
       "  'hash': '0x9cd97212197725d172f5222b7044cab025a19c834ada9b2db76c882b9ca21ac1',\n",
       "  'to_address': '0x3d89db60550dbedacd729cc6575244445246e399',\n",
       "  'value_eth': 45.0,\n",
       "  'tag': ''},\n",
       " {'block_number': 15309715,\n",
       "  'hash': '0xeaebd96cd99db2f27165d761f6d69c0222714214678c47541827d63a6a0f5359',\n",
       "  'to_address': '0x45470961fb25789654fcfc391baf77019051ef78',\n",
       "  'value_eth': 0.1,\n",
       "  'tag': ''},\n",
       " {'block_number': 15310284,\n",
       "  'hash': '0x72d7459d59814e8a67b3e8a30bd5d0c99ffeda2d40b836befa1e8468a3de42ce',\n",
       "  'to_address': '0xb50009a308aad52d0e295757d22ea69f3169866f',\n",
       "  'value_eth': 23.0,\n",
       "  'tag': ''},\n",
       " {'block_number': 15310315,\n",
       "  'hash': '0xc61aaef61fe7f646188067e5021b466d37d5b0dcc36488e62473a0137cfd13f4',\n",
       "  'to_address': '0x8652a44350ac14af3f534a339e1fae096be5eae5',\n",
       "  'value_eth': 20.0,\n",
       "  'tag': ''},\n",
       " {'block_number': 15310342,\n",
       "  'hash': '0xc1045e9a253cd29ea88b244ec6a891d92c8822a73c765571ded8fec4e0daf675',\n",
       "  'to_address': '0xd90e2f925da726b50c4ed8d0fb90ad053324f31b',\n",
       "  'value_eth': 10.0,\n",
       "  'tag': 'Tornado.Cash: Router'},\n",
       " {'block_number': 15310396,\n",
       "  'hash': '0x7c716a8eebfe335d8910c16b857159fb0363441e4c79473c64fc3949d778c1ba',\n",
       "  'to_address': '0xd90e2f925da726b50c4ed8d0fb90ad053324f31b',\n",
       "  'value_eth': 0.1,\n",
       "  'tag': 'Tornado.Cash: Router'},\n",
       " {'block_number': 15310351,\n",
       "  'hash': '0xf2d0a2a2d8c9c178cb657724658b61f52b9c1028fd76ed945936493667ea4372',\n",
       "  'to_address': '0xd90e2f925da726b50c4ed8d0fb90ad053324f31b',\n",
       "  'value_eth': 1.0,\n",
       "  'tag': 'Tornado.Cash: Router'}]"
      ]
     },
     "execution_count": 9,
     "metadata": {},
     "output_type": "execute_result"
    }
   ],
   "source": [
    "# query list of txs that hacker cashes out (eth to other platform). value_eth >= 0.1 based on etherscan\n",
    "response = queryLuabase(f\"select block_number, hash, to_address, value_eth, tag from ethereum.transactions as t left join ethereum.tags as tags on t.to_address = tags.address WHERE t.value_eth >= 0.1 and t.from_address = '{to_address}'\")\n",
    "response\n",
    "\n",
    "            "
   ]
  },
  {
   "cell_type": "code",
   "execution_count": 10,
   "metadata": {},
   "outputs": [
    {
     "name": "stdout",
     "output_type": "stream",
     "text": [
      "[{'value_eth': 27.700000000000003, 'tag': 'Tornado.Cash: Router'}]\n",
      "[{'block_number': 15310223, 'hash': '0x2e76259606c3f4fc2842e1dce99c2631753c4526b7c615312f2a65b285689d48', 'to_address': '0x06c339416d76fce9ca8a7a66b4aedbe7301826d7', 'value_eth': 45.0, 'tag': ''}, {'block_number': 15310242, 'hash': '0x5108cd31c7a16727275d2f55fe2a31f2f3f20cd3821c485b1917d9411c97fb70', 'to_address': '0xc3e20d299084b7017ad44e6cd2ba0a1d39ab2e31', 'value_eth': 45.0, 'tag': ''}, {'block_number': 15310252, 'hash': '0x069620d1f2b81edfa8f6ff25e3f45f53e43378e7fc9f637f7d227ed8e27fbec8', 'to_address': '0xc137c19946724f76e65bb0efb81ddcf895d6472c', 'value_eth': 45.0, 'tag': ''}, {'block_number': 15310290, 'hash': '0x57da7f38aa453f08804de988bb093c6e359a90c3e753609f9d29e26d78225e30', 'to_address': '0xb6d318c4d1618eb8dcc2e8c09600397f0daae8b0', 'value_eth': 22.0, 'tag': ''}, {'block_number': 15310211, 'hash': '0x8d9490726efeb97cd4671d214ec0718c9b0195ef1df2a1bf74af06487a29d35d', 'to_address': '0x081697e6b97e9a0e332e27b82b7264c6d5700711', 'value_eth': 45.0, 'tag': ''}, {'block_number': 15310224, 'hash': '0x83b67cf16d16afdb277025ecd5142b029cf946fb418d2d8deb1860d313bc48b6', 'to_address': '0x23aa03289def8cc3a1343ed7de8fc23ac7c7690f', 'value_eth': 45.0, 'tag': ''}, {'block_number': 15310258, 'hash': '0x9cd97212197725d172f5222b7044cab025a19c834ada9b2db76c882b9ca21ac1', 'to_address': '0x3d89db60550dbedacd729cc6575244445246e399', 'value_eth': 45.0, 'tag': ''}, {'block_number': 15309715, 'hash': '0xeaebd96cd99db2f27165d761f6d69c0222714214678c47541827d63a6a0f5359', 'to_address': '0x45470961fb25789654fcfc391baf77019051ef78', 'value_eth': 0.1, 'tag': ''}, {'block_number': 15310284, 'hash': '0x72d7459d59814e8a67b3e8a30bd5d0c99ffeda2d40b836befa1e8468a3de42ce', 'to_address': '0xb50009a308aad52d0e295757d22ea69f3169866f', 'value_eth': 23.0, 'tag': ''}, {'block_number': 15310315, 'hash': '0xc61aaef61fe7f646188067e5021b466d37d5b0dcc36488e62473a0137cfd13f4', 'to_address': '0x8652a44350ac14af3f534a339e1fae096be5eae5', 'value_eth': 20.0, 'tag': ''}]\n"
     ]
    }
   ],
   "source": [
    "# filter cash out based on tag\n",
    "\n",
    "cash_out_only_tags = []\n",
    "cash_out_known_tags = []\n",
    "cash_out_unknown_tags = []\n",
    "\n",
    "for r in response:\n",
    "    reduced_r = {'value_eth':r['value_eth'], 'tag': r['tag']}\n",
    "    if r['tag'] == '':\n",
    "        cash_out_unknown_tags.append(r)\n",
    "        continue\n",
    "\n",
    "    if r['tag'] not in cash_out_only_tags:\n",
    "        cash_out_only_tags.append(r['tag'])\n",
    "        cash_out_known_tags.append(reduced_r)\n",
    "        continue\n",
    "\n",
    "    for c in cash_out_known_tags:\n",
    "        if r['tag'] == c['tag']:\n",
    "            c['value_eth'] += r['value_eth']\n",
    "            break\n",
    "\n",
    "print(cash_out_known_tags)\n",
    "print(cash_out_unknown_tags)"
   ]
  },
  {
   "cell_type": "code",
   "execution_count": 11,
   "metadata": {},
   "outputs": [
    {
     "data": {
      "text/plain": [
       "[[{'block_number': 15310245,\n",
       "   'hash': '0x5cbe818b9bbfa4344e48c8bb5d37c0eecdcde8b15613c6823ff13d0af72c353d',\n",
       "   'to_address': '0x4e5b2e1dc63f6b91cb6cd759936495434c7e972f',\n",
       "   'value_eth': 44.99972700000001,\n",
       "   'tag': 'FixedFloat'}],\n",
       " [{'block_number': 15310300,\n",
       "   'hash': '0x22df8dee167bbf32bfecca2aa1aa33487402a3c840383f0b9b4dced215553d54',\n",
       "   'to_address': '0x4e5b2e1dc63f6b91cb6cd759936495434c7e972f',\n",
       "   'value_eth': 44.999706,\n",
       "   'tag': 'FixedFloat'}],\n",
       " [{'block_number': 15310274,\n",
       "   'hash': '0x64fdd3998e60b98058d524dd5c9ea7c22db039a276e3594501fd18aee9f08bd4',\n",
       "   'to_address': '0x4e5b2e1dc63f6b91cb6cd759936495434c7e972f',\n",
       "   'value_eth': 44.999391,\n",
       "   'tag': 'FixedFloat'}],\n",
       " [{'block_number': 15310304,\n",
       "   'hash': '0x81df74a39265d6f85e19ec0954c90e393d6df4bf7f250ddf0c31dfe580d1dbb1',\n",
       "   'to_address': '0x4e5b2e1dc63f6b91cb6cd759936495434c7e972f',\n",
       "   'value_eth': 21.999643,\n",
       "   'tag': 'FixedFloat'}],\n",
       " [{'block_number': 15310229,\n",
       "   'hash': '0x2eef64d081a222a9d1667d27caf76a1034eba96cd42f7130000a4c0ccbe62793',\n",
       "   'to_address': '0x4e5b2e1dc63f6b91cb6cd759936495434c7e972f',\n",
       "   'value_eth': 44.99968499999999,\n",
       "   'tag': 'FixedFloat'}],\n",
       " [{'block_number': 15310247,\n",
       "   'hash': '0x40795cad2d0122708c29a831e7a341f328d90f05e6e2fca2110af79b97eaf31b',\n",
       "   'to_address': '0x4e5b2e1dc63f6b91cb6cd759936495434c7e972f',\n",
       "   'value_eth': 44.999706,\n",
       "   'tag': 'FixedFloat'}],\n",
       " [{'block_number': 15310288,\n",
       "   'hash': '0x87ca0c7d739deedd13ad8c24e467570f4743ba7f850c2191d53d0153fbc50bb4',\n",
       "   'to_address': '0x4e5b2e1dc63f6b91cb6cd759936495434c7e972f',\n",
       "   'value_eth': 44.999559000000005,\n",
       "   'tag': 'FixedFloat'}],\n",
       " [],\n",
       " [{'block_number': 15310287,\n",
       "   'hash': '0xbc121103bd696761df3fea4a2751705db9a363e4f8284fef7b49c9bfb82c05c9',\n",
       "   'to_address': '0xcdd37ada79f589c15bd4f8fd2083dc88e34a2af2',\n",
       "   'value_eth': 22.999450053588944,\n",
       "   'tag': ''}],\n",
       " [{'block_number': 15310398,\n",
       "   'hash': '0x1f23e149064e2260ba6ca5d40655fb0043e6e5dd641085bb53fccd3609c77d05',\n",
       "   'to_address': '0x28c6c06298d514db089934071355e5743bf21d60',\n",
       "   'value_eth': 19.997937,\n",
       "   'tag': 'Binance 14'}]]"
      ]
     },
     "execution_count": 11,
     "metadata": {},
     "output_type": "execute_result"
    }
   ],
   "source": [
    "# collect cash out txs for unknown tags. These addresses are also from hacker's\n",
    "# reuse var\n",
    "cash_out_new_known_tags = []\n",
    "for c in cash_out_unknown_tags:\n",
    "    response = queryLuabase(f\"select block_number, hash, to_address, value_eth, tag from ethereum.transactions as t left join ethereum.tags as tags on t.to_address = tags.address WHERE t.value_eth >= 0.1 and t.from_address = '{c['to_address']}'\")\n",
    "    cash_out_new_known_tags.append(response)\n",
    "\n",
    "cash_out_new_known_tags"
   ]
  },
  {
   "cell_type": "code",
   "execution_count": 12,
   "metadata": {},
   "outputs": [
    {
     "name": "stdout",
     "output_type": "stream",
     "text": [
      "[{'value_eth': 291.99741700000004, 'tag': 'FixedFloat'}, {'value_eth': 19.997937, 'tag': 'Binance 14'}]\n",
      "[{'value_eth': 27.700000000000003, 'tag': 'Tornado.Cash: Router'}]\n",
      "[{'value_eth': 22.999450053588944, 'tag': 'SideShift: Hot Wallet'}]\n"
     ]
    }
   ],
   "source": [
    "# continue to filter more tags\n",
    "tags = []\n",
    "unknown_tags = []\n",
    "only_tags = []\n",
    "\n",
    "for c in cash_out_new_known_tags:\n",
    "    for cc in c:\n",
    "        reduced_c = {'value_eth':cc['value_eth'], 'tag': cc['tag']}\n",
    "        if cc['tag'] == '':\n",
    "            unknown_tags.append(reduced_c)\n",
    "            continue\n",
    "\n",
    "        if cc['tag'] not in only_tags:\n",
    "            only_tags.append(cc['tag'])\n",
    "            tags.append(reduced_c)\n",
    "            continue\n",
    "\n",
    "        for t in tags:\n",
    "            if cc['tag'] == t['tag']:\n",
    "                t['value_eth'] += cc['value_eth']\n",
    "                break\n",
    "\n",
    "unknown_tags[0]['tag'] = 'SideShift: Hot Wallet'\n",
    "print(tags)\n",
    "print(cash_out_known_tags)\n",
    "print(unknown_tags)"
   ]
  },
  {
   "cell_type": "code",
   "execution_count": 23,
   "metadata": {},
   "outputs": [
    {
     "name": "stdout",
     "output_type": "stream",
     "text": [
      "         0x97fe22e7341a0cd8db6f6c021a24dc8f4dad855f  \\\n",
      "decimals                                         18   \n",
      "amount                                 188444.20252   \n",
      "symbol                                         sGBP   \n",
      "\n",
      "         0xa0b86991c6218b36c1d19d4a2e9eb0ce3606eb48  \\\n",
      "decimals                                          6   \n",
      "amount                                846814.656485   \n",
      "symbol                                         USDC   \n",
      "\n",
      "         0x269895a3df4d73b077fc823dd6da1b95f72aaf9b  \\\n",
      "decimals                                         18   \n",
      "amount                              27947671.011516   \n",
      "symbol                                         sKRW   \n",
      "\n",
      "         0x6b175474e89094c44da98b954eedeac495271d0f  \\\n",
      "decimals                                         18   \n",
      "amount                                 17558.723455   \n",
      "symbol                                          DAI   \n",
      "\n",
      "         0x96e61422b6a9ba0e068b6c5add4ffabc6a4aae27  \\\n",
      "decimals                                         18   \n",
      "amount                                     800000.0   \n",
      "symbol                                        ibEUR   \n",
      "\n",
      "         0xbea0000029ad1c77d3d5d23ba2d8893db9d1efab  \\\n",
      "decimals                                          6   \n",
      "amount                                  6997.580384   \n",
      "symbol                                         BEAN   \n",
      "\n",
      "         0xdac17f958d2ee523a2206206994597c13d831ec7  \\\n",
      "decimals                                          6   \n",
      "amount                                 53391.190567   \n",
      "symbol                                         USDT   \n",
      "\n",
      "         0x1cc481ce2bd2ec7bf67d1be64d4878b16078f309  \n",
      "decimals                                         18  \n",
      "amount                                 43862.302832  \n",
      "symbol                                        ibCHF  \n"
     ]
    }
   ],
   "source": [
    "abi='[{\"anonymous\":false,\"inputs\":[{\"indexed\":true,\"internalType\":\"address\",\"name\":\"owner\",\"type\":\"address\"},{\"indexed\":true,\"internalType\":\"address\",\"name\":\"spender\",\"type\":\"address\"},{\"indexed\":false,\"internalType\":\"uint256\",\"name\":\"value\",\"type\":\"uint256\"}],\"name\":\"Approval\",\"type\":\"event\"},{\"anonymous\":false,\"inputs\":[{\"indexed\":true,\"internalType\":\"address\",\"name\":\"authorizer\",\"type\":\"address\"},{\"indexed\":true,\"internalType\":\"bytes32\",\"name\":\"nonce\",\"type\":\"bytes32\"}],\"name\":\"AuthorizationCanceled\",\"type\":\"event\"},{\"anonymous\":false,\"inputs\":[{\"indexed\":true,\"internalType\":\"address\",\"name\":\"authorizer\",\"type\":\"address\"},{\"indexed\":true,\"internalType\":\"bytes32\",\"name\":\"nonce\",\"type\":\"bytes32\"}],\"name\":\"AuthorizationUsed\",\"type\":\"event\"},{\"anonymous\":false,\"inputs\":[{\"indexed\":true,\"internalType\":\"address\",\"name\":\"_account\",\"type\":\"address\"}],\"name\":\"Blacklisted\",\"type\":\"event\"},{\"anonymous\":false,\"inputs\":[{\"indexed\":true,\"internalType\":\"address\",\"name\":\"newBlacklister\",\"type\":\"address\"}],\"name\":\"BlacklisterChanged\",\"type\":\"event\"},{\"anonymous\":false,\"inputs\":[{\"indexed\":true,\"internalType\":\"address\",\"name\":\"burner\",\"type\":\"address\"},{\"indexed\":false,\"internalType\":\"uint256\",\"name\":\"amount\",\"type\":\"uint256\"}],\"name\":\"Burn\",\"type\":\"event\"},{\"anonymous\":false,\"inputs\":[{\"indexed\":true,\"internalType\":\"address\",\"name\":\"newMasterMinter\",\"type\":\"address\"}],\"name\":\"MasterMinterChanged\",\"type\":\"event\"},{\"anonymous\":false,\"inputs\":[{\"indexed\":true,\"internalType\":\"address\",\"name\":\"minter\",\"type\":\"address\"},{\"indexed\":true,\"internalType\":\"address\",\"name\":\"to\",\"type\":\"address\"},{\"indexed\":false,\"internalType\":\"uint256\",\"name\":\"amount\",\"type\":\"uint256\"}],\"name\":\"Mint\",\"type\":\"event\"},{\"anonymous\":false,\"inputs\":[{\"indexed\":true,\"internalType\":\"address\",\"name\":\"minter\",\"type\":\"address\"},{\"indexed\":false,\"internalType\":\"uint256\",\"name\":\"minterAllowedAmount\",\"type\":\"uint256\"}],\"name\":\"MinterConfigured\",\"type\":\"event\"},{\"anonymous\":false,\"inputs\":[{\"indexed\":true,\"internalType\":\"address\",\"name\":\"oldMinter\",\"type\":\"address\"}],\"name\":\"MinterRemoved\",\"type\":\"event\"},{\"anonymous\":false,\"inputs\":[{\"indexed\":false,\"internalType\":\"address\",\"name\":\"previousOwner\",\"type\":\"address\"},{\"indexed\":false,\"internalType\":\"address\",\"name\":\"newOwner\",\"type\":\"address\"}],\"name\":\"OwnershipTransferred\",\"type\":\"event\"},{\"anonymous\":false,\"inputs\":[],\"name\":\"Pause\",\"type\":\"event\"},{\"anonymous\":false,\"inputs\":[{\"indexed\":true,\"internalType\":\"address\",\"name\":\"newAddress\",\"type\":\"address\"}],\"name\":\"PauserChanged\",\"type\":\"event\"},{\"anonymous\":false,\"inputs\":[{\"indexed\":true,\"internalType\":\"address\",\"name\":\"newRescuer\",\"type\":\"address\"}],\"name\":\"RescuerChanged\",\"type\":\"event\"},{\"anonymous\":false,\"inputs\":[{\"indexed\":true,\"internalType\":\"address\",\"name\":\"from\",\"type\":\"address\"},{\"indexed\":true,\"internalType\":\"address\",\"name\":\"to\",\"type\":\"address\"},{\"indexed\":false,\"internalType\":\"uint256\",\"name\":\"value\",\"type\":\"uint256\"}],\"name\":\"Transfer\",\"type\":\"event\"},{\"anonymous\":false,\"inputs\":[{\"indexed\":true,\"internalType\":\"address\",\"name\":\"_account\",\"type\":\"address\"}],\"name\":\"UnBlacklisted\",\"type\":\"event\"},{\"anonymous\":false,\"inputs\":[],\"name\":\"Unpause\",\"type\":\"event\"},{\"inputs\":[],\"name\":\"CANCEL_AUTHORIZATION_TYPEHASH\",\"outputs\":[{\"internalType\":\"bytes32\",\"name\":\"\",\"type\":\"bytes32\"}],\"stateMutability\":\"view\",\"type\":\"function\"},{\"inputs\":[],\"name\":\"DOMAIN_SEPARATOR\",\"outputs\":[{\"internalType\":\"bytes32\",\"name\":\"\",\"type\":\"bytes32\"}],\"stateMutability\":\"view\",\"type\":\"function\"},{\"inputs\":[],\"name\":\"PERMIT_TYPEHASH\",\"outputs\":[{\"internalType\":\"bytes32\",\"name\":\"\",\"type\":\"bytes32\"}],\"stateMutability\":\"view\",\"type\":\"function\"},{\"inputs\":[],\"name\":\"RECEIVE_WITH_AUTHORIZATION_TYPEHASH\",\"outputs\":[{\"internalType\":\"bytes32\",\"name\":\"\",\"type\":\"bytes32\"}],\"stateMutability\":\"view\",\"type\":\"function\"},{\"inputs\":[],\"name\":\"TRANSFER_WITH_AUTHORIZATION_TYPEHASH\",\"outputs\":[{\"internalType\":\"bytes32\",\"name\":\"\",\"type\":\"bytes32\"}],\"stateMutability\":\"view\",\"type\":\"function\"},{\"inputs\":[{\"internalType\":\"address\",\"name\":\"owner\",\"type\":\"address\"},{\"internalType\":\"address\",\"name\":\"spender\",\"type\":\"address\"}],\"name\":\"allowance\",\"outputs\":[{\"internalType\":\"uint256\",\"name\":\"\",\"type\":\"uint256\"}],\"stateMutability\":\"view\",\"type\":\"function\"},{\"inputs\":[{\"internalType\":\"address\",\"name\":\"spender\",\"type\":\"address\"},{\"internalType\":\"uint256\",\"name\":\"value\",\"type\":\"uint256\"}],\"name\":\"approve\",\"outputs\":[{\"internalType\":\"bool\",\"name\":\"\",\"type\":\"bool\"}],\"stateMutability\":\"nonpayable\",\"type\":\"function\"},{\"inputs\":[{\"internalType\":\"address\",\"name\":\"authorizer\",\"type\":\"address\"},{\"internalType\":\"bytes32\",\"name\":\"nonce\",\"type\":\"bytes32\"}],\"name\":\"authorizationState\",\"outputs\":[{\"internalType\":\"bool\",\"name\":\"\",\"type\":\"bool\"}],\"stateMutability\":\"view\",\"type\":\"function\"},{\"inputs\":[{\"internalType\":\"address\",\"name\":\"account\",\"type\":\"address\"}],\"name\":\"balanceOf\",\"outputs\":[{\"internalType\":\"uint256\",\"name\":\"\",\"type\":\"uint256\"}],\"stateMutability\":\"view\",\"type\":\"function\"},{\"inputs\":[{\"internalType\":\"address\",\"name\":\"_account\",\"type\":\"address\"}],\"name\":\"blacklist\",\"outputs\":[],\"stateMutability\":\"nonpayable\",\"type\":\"function\"},{\"inputs\":[],\"name\":\"blacklister\",\"outputs\":[{\"internalType\":\"address\",\"name\":\"\",\"type\":\"address\"}],\"stateMutability\":\"view\",\"type\":\"function\"},{\"inputs\":[{\"internalType\":\"uint256\",\"name\":\"_amount\",\"type\":\"uint256\"}],\"name\":\"burn\",\"outputs\":[],\"stateMutability\":\"nonpayable\",\"type\":\"function\"},{\"inputs\":[{\"internalType\":\"address\",\"name\":\"authorizer\",\"type\":\"address\"},{\"internalType\":\"bytes32\",\"name\":\"nonce\",\"type\":\"bytes32\"},{\"internalType\":\"uint8\",\"name\":\"v\",\"type\":\"uint8\"},{\"internalType\":\"bytes32\",\"name\":\"r\",\"type\":\"bytes32\"},{\"internalType\":\"bytes32\",\"name\":\"s\",\"type\":\"bytes32\"}],\"name\":\"cancelAuthorization\",\"outputs\":[],\"stateMutability\":\"nonpayable\",\"type\":\"function\"},{\"inputs\":[{\"internalType\":\"address\",\"name\":\"minter\",\"type\":\"address\"},{\"internalType\":\"uint256\",\"name\":\"minterAllowedAmount\",\"type\":\"uint256\"}],\"name\":\"configureMinter\",\"outputs\":[{\"internalType\":\"bool\",\"name\":\"\",\"type\":\"bool\"}],\"stateMutability\":\"nonpayable\",\"type\":\"function\"},{\"inputs\":[],\"name\":\"currency\",\"outputs\":[{\"internalType\":\"string\",\"name\":\"\",\"type\":\"string\"}],\"stateMutability\":\"view\",\"type\":\"function\"},{\"inputs\":[],\"name\":\"decimals\",\"outputs\":[{\"internalType\":\"uint8\",\"name\":\"\",\"type\":\"uint8\"}],\"stateMutability\":\"view\",\"type\":\"function\"},{\"inputs\":[{\"internalType\":\"address\",\"name\":\"spender\",\"type\":\"address\"},{\"internalType\":\"uint256\",\"name\":\"decrement\",\"type\":\"uint256\"}],\"name\":\"decreaseAllowance\",\"outputs\":[{\"internalType\":\"bool\",\"name\":\"\",\"type\":\"bool\"}],\"stateMutability\":\"nonpayable\",\"type\":\"function\"},{\"inputs\":[{\"internalType\":\"address\",\"name\":\"spender\",\"type\":\"address\"},{\"internalType\":\"uint256\",\"name\":\"increment\",\"type\":\"uint256\"}],\"name\":\"increaseAllowance\",\"outputs\":[{\"internalType\":\"bool\",\"name\":\"\",\"type\":\"bool\"}],\"stateMutability\":\"nonpayable\",\"type\":\"function\"},{\"inputs\":[{\"internalType\":\"string\",\"name\":\"tokenName\",\"type\":\"string\"},{\"internalType\":\"string\",\"name\":\"tokenSymbol\",\"type\":\"string\"},{\"internalType\":\"string\",\"name\":\"tokenCurrency\",\"type\":\"string\"},{\"internalType\":\"uint8\",\"name\":\"tokenDecimals\",\"type\":\"uint8\"},{\"internalType\":\"address\",\"name\":\"newMasterMinter\",\"type\":\"address\"},{\"internalType\":\"address\",\"name\":\"newPauser\",\"type\":\"address\"},{\"internalType\":\"address\",\"name\":\"newBlacklister\",\"type\":\"address\"},{\"internalType\":\"address\",\"name\":\"newOwner\",\"type\":\"address\"}],\"name\":\"initialize\",\"outputs\":[],\"stateMutability\":\"nonpayable\",\"type\":\"function\"},{\"inputs\":[{\"internalType\":\"string\",\"name\":\"newName\",\"type\":\"string\"}],\"name\":\"initializeV2\",\"outputs\":[],\"stateMutability\":\"nonpayable\",\"type\":\"function\"},{\"inputs\":[{\"internalType\":\"address\",\"name\":\"lostAndFound\",\"type\":\"address\"}],\"name\":\"initializeV2_1\",\"outputs\":[],\"stateMutability\":\"nonpayable\",\"type\":\"function\"},{\"inputs\":[{\"internalType\":\"address\",\"name\":\"_account\",\"type\":\"address\"}],\"name\":\"isBlacklisted\",\"outputs\":[{\"internalType\":\"bool\",\"name\":\"\",\"type\":\"bool\"}],\"stateMutability\":\"view\",\"type\":\"function\"},{\"inputs\":[{\"internalType\":\"address\",\"name\":\"account\",\"type\":\"address\"}],\"name\":\"isMinter\",\"outputs\":[{\"internalType\":\"bool\",\"name\":\"\",\"type\":\"bool\"}],\"stateMutability\":\"view\",\"type\":\"function\"},{\"inputs\":[],\"name\":\"masterMinter\",\"outputs\":[{\"internalType\":\"address\",\"name\":\"\",\"type\":\"address\"}],\"stateMutability\":\"view\",\"type\":\"function\"},{\"inputs\":[{\"internalType\":\"address\",\"name\":\"_to\",\"type\":\"address\"},{\"internalType\":\"uint256\",\"name\":\"_amount\",\"type\":\"uint256\"}],\"name\":\"mint\",\"outputs\":[{\"internalType\":\"bool\",\"name\":\"\",\"type\":\"bool\"}],\"stateMutability\":\"nonpayable\",\"type\":\"function\"},{\"inputs\":[{\"internalType\":\"address\",\"name\":\"minter\",\"type\":\"address\"}],\"name\":\"minterAllowance\",\"outputs\":[{\"internalType\":\"uint256\",\"name\":\"\",\"type\":\"uint256\"}],\"stateMutability\":\"view\",\"type\":\"function\"},{\"inputs\":[],\"name\":\"name\",\"outputs\":[{\"internalType\":\"string\",\"name\":\"\",\"type\":\"string\"}],\"stateMutability\":\"view\",\"type\":\"function\"},{\"inputs\":[{\"internalType\":\"address\",\"name\":\"owner\",\"type\":\"address\"}],\"name\":\"nonces\",\"outputs\":[{\"internalType\":\"uint256\",\"name\":\"\",\"type\":\"uint256\"}],\"stateMutability\":\"view\",\"type\":\"function\"},{\"inputs\":[],\"name\":\"owner\",\"outputs\":[{\"internalType\":\"address\",\"name\":\"\",\"type\":\"address\"}],\"stateMutability\":\"view\",\"type\":\"function\"},{\"inputs\":[],\"name\":\"pause\",\"outputs\":[],\"stateMutability\":\"nonpayable\",\"type\":\"function\"},{\"inputs\":[],\"name\":\"paused\",\"outputs\":[{\"internalType\":\"bool\",\"name\":\"\",\"type\":\"bool\"}],\"stateMutability\":\"view\",\"type\":\"function\"},{\"inputs\":[],\"name\":\"pauser\",\"outputs\":[{\"internalType\":\"address\",\"name\":\"\",\"type\":\"address\"}],\"stateMutability\":\"view\",\"type\":\"function\"},{\"inputs\":[{\"internalType\":\"address\",\"name\":\"owner\",\"type\":\"address\"},{\"internalType\":\"address\",\"name\":\"spender\",\"type\":\"address\"},{\"internalType\":\"uint256\",\"name\":\"value\",\"type\":\"uint256\"},{\"internalType\":\"uint256\",\"name\":\"deadline\",\"type\":\"uint256\"},{\"internalType\":\"uint8\",\"name\":\"v\",\"type\":\"uint8\"},{\"internalType\":\"bytes32\",\"name\":\"r\",\"type\":\"bytes32\"},{\"internalType\":\"bytes32\",\"name\":\"s\",\"type\":\"bytes32\"}],\"name\":\"permit\",\"outputs\":[],\"stateMutability\":\"nonpayable\",\"type\":\"function\"},{\"inputs\":[{\"internalType\":\"address\",\"name\":\"from\",\"type\":\"address\"},{\"internalType\":\"address\",\"name\":\"to\",\"type\":\"address\"},{\"internalType\":\"uint256\",\"name\":\"value\",\"type\":\"uint256\"},{\"internalType\":\"uint256\",\"name\":\"validAfter\",\"type\":\"uint256\"},{\"internalType\":\"uint256\",\"name\":\"validBefore\",\"type\":\"uint256\"},{\"internalType\":\"bytes32\",\"name\":\"nonce\",\"type\":\"bytes32\"},{\"internalType\":\"uint8\",\"name\":\"v\",\"type\":\"uint8\"},{\"internalType\":\"bytes32\",\"name\":\"r\",\"type\":\"bytes32\"},{\"internalType\":\"bytes32\",\"name\":\"s\",\"type\":\"bytes32\"}],\"name\":\"receiveWithAuthorization\",\"outputs\":[],\"stateMutability\":\"nonpayable\",\"type\":\"function\"},{\"inputs\":[{\"internalType\":\"address\",\"name\":\"minter\",\"type\":\"address\"}],\"name\":\"removeMinter\",\"outputs\":[{\"internalType\":\"bool\",\"name\":\"\",\"type\":\"bool\"}],\"stateMutability\":\"nonpayable\",\"type\":\"function\"},{\"inputs\":[{\"internalType\":\"contract IERC20\",\"name\":\"tokenContract\",\"type\":\"address\"},{\"internalType\":\"address\",\"name\":\"to\",\"type\":\"address\"},{\"internalType\":\"uint256\",\"name\":\"amount\",\"type\":\"uint256\"}],\"name\":\"rescueERC20\",\"outputs\":[],\"stateMutability\":\"nonpayable\",\"type\":\"function\"},{\"inputs\":[],\"name\":\"rescuer\",\"outputs\":[{\"internalType\":\"address\",\"name\":\"\",\"type\":\"address\"}],\"stateMutability\":\"view\",\"type\":\"function\"},{\"inputs\":[],\"name\":\"symbol\",\"outputs\":[{\"internalType\":\"string\",\"name\":\"\",\"type\":\"string\"}],\"stateMutability\":\"view\",\"type\":\"function\"},{\"inputs\":[],\"name\":\"totalSupply\",\"outputs\":[{\"internalType\":\"uint256\",\"name\":\"\",\"type\":\"uint256\"}],\"stateMutability\":\"view\",\"type\":\"function\"},{\"inputs\":[{\"internalType\":\"address\",\"name\":\"to\",\"type\":\"address\"},{\"internalType\":\"uint256\",\"name\":\"value\",\"type\":\"uint256\"}],\"name\":\"transfer\",\"outputs\":[{\"internalType\":\"bool\",\"name\":\"\",\"type\":\"bool\"}],\"stateMutability\":\"nonpayable\",\"type\":\"function\"},{\"inputs\":[{\"internalType\":\"address\",\"name\":\"from\",\"type\":\"address\"},{\"internalType\":\"address\",\"name\":\"to\",\"type\":\"address\"},{\"internalType\":\"uint256\",\"name\":\"value\",\"type\":\"uint256\"}],\"name\":\"transferFrom\",\"outputs\":[{\"internalType\":\"bool\",\"name\":\"\",\"type\":\"bool\"}],\"stateMutability\":\"nonpayable\",\"type\":\"function\"},{\"inputs\":[{\"internalType\":\"address\",\"name\":\"newOwner\",\"type\":\"address\"}],\"name\":\"transferOwnership\",\"outputs\":[],\"stateMutability\":\"nonpayable\",\"type\":\"function\"},{\"inputs\":[{\"internalType\":\"address\",\"name\":\"from\",\"type\":\"address\"},{\"internalType\":\"address\",\"name\":\"to\",\"type\":\"address\"},{\"internalType\":\"uint256\",\"name\":\"value\",\"type\":\"uint256\"},{\"internalType\":\"uint256\",\"name\":\"validAfter\",\"type\":\"uint256\"},{\"internalType\":\"uint256\",\"name\":\"validBefore\",\"type\":\"uint256\"},{\"internalType\":\"bytes32\",\"name\":\"nonce\",\"type\":\"bytes32\"},{\"internalType\":\"uint8\",\"name\":\"v\",\"type\":\"uint8\"},{\"internalType\":\"bytes32\",\"name\":\"r\",\"type\":\"bytes32\"},{\"internalType\":\"bytes32\",\"name\":\"s\",\"type\":\"bytes32\"}],\"name\":\"transferWithAuthorization\",\"outputs\":[],\"stateMutability\":\"nonpayable\",\"type\":\"function\"},{\"inputs\":[{\"internalType\":\"address\",\"name\":\"_account\",\"type\":\"address\"}],\"name\":\"unBlacklist\",\"outputs\":[],\"stateMutability\":\"nonpayable\",\"type\":\"function\"},{\"inputs\":[],\"name\":\"unpause\",\"outputs\":[],\"stateMutability\":\"nonpayable\",\"type\":\"function\"},{\"inputs\":[{\"internalType\":\"address\",\"name\":\"_newBlacklister\",\"type\":\"address\"}],\"name\":\"updateBlacklister\",\"outputs\":[],\"stateMutability\":\"nonpayable\",\"type\":\"function\"},{\"inputs\":[{\"internalType\":\"address\",\"name\":\"_newMasterMinter\",\"type\":\"address\"}],\"name\":\"updateMasterMinter\",\"outputs\":[],\"stateMutability\":\"nonpayable\",\"type\":\"function\"},{\"inputs\":[{\"internalType\":\"address\",\"name\":\"_newPauser\",\"type\":\"address\"}],\"name\":\"updatePauser\",\"outputs\":[],\"stateMutability\":\"nonpayable\",\"type\":\"function\"},{\"inputs\":[{\"internalType\":\"address\",\"name\":\"newRescuer\",\"type\":\"address\"}],\"name\":\"updateRescuer\",\"outputs\":[],\"stateMutability\":\"nonpayable\",\"type\":\"function\"},{\"inputs\":[],\"name\":\"version\",\"outputs\":[{\"internalType\":\"string\",\"name\":\"\",\"type\":\"string\"}],\"stateMutability\":\"view\",\"type\":\"function\"}]'\n",
    "\n",
    "erc20_risks_mapping = {}\n",
    "\n",
    "# first index is erc20 owner, 2nd is erc20 contract address, 3rd is block number\n",
    "def get_raw_balance(data):\n",
    "    contract = w3.eth.contract(Web3.toChecksumAddress(data[1]), abi=abi)\n",
    "    raw_balance = contract.functions.balanceOf(Web3.toChecksumAddress(data[0])).call(block_identifier=data[2])\n",
    "    symbol = contract.functions.symbol().call()\n",
    "    decimals = contract.functions.decimals().call()\n",
    "    if data[1] not in erc20_risks_mapping.keys():\n",
    "        erc20_risks_mapping[data[1]] = {'decimals': decimals, 'amount': raw_balance, 'symbol': symbol}\n",
    "    else:\n",
    "        erc20_risks_mapping[data[1]].update({'amount': erc20_risks_mapping[data[1]]['amount'] + raw_balance})\n",
    "\n",
    "# first index is erc20 owner, 2nd is spender, 3rd is erc20 contract address, 4th is block number\n",
    "get_raw_balance([\"0x38abab9766e0b27d2912718a884292b8e7eb2803\",\"0x97fe22e7341a0cd8db6f6c021a24dc8f4dad855f\",15309829])\n",
    "\n",
    "get_raw_balance([\"0x986680f665eb6fb6f72c9df209468e3426517bc6\",\"0xa0b86991c6218b36c1d19d4a2e9eb0ce3606eb48\",15309745])\n",
    "\n",
    "get_raw_balance([\"0x38abab9766e0b27d2912718a884292b8e7eb2803\",\"0x269895a3df4d73b077fc823dd6da1b95f72aaf9b\",15309790])\n",
    "\n",
    "get_raw_balance([\"0x45470961fb25789654fcfc391baf77019051ef78\",\"0xa0b86991c6218b36c1d19d4a2e9eb0ce3606eb48\",15309722])\n",
    "\n",
    "get_raw_balance([\"0x056fc75753bd75ea28b5966c4bea29f4ad49321c\",\"0x6b175474e89094c44da98b954eedeac495271d0f\",15309954])\n",
    "\n",
    "get_raw_balance([\"0xb30ca7383dbd1ac31459e8e1de3bcb022a1db001\",\"0xa0b86991c6218b36c1d19d4a2e9eb0ce3606eb48\",15309929])\n",
    "\n",
    "get_raw_balance([\"0xb3e08599ac57666be68dbb3d311b9c607900a83b\",\"0x6b175474e89094c44da98b954eedeac495271d0f\",15310030])\n",
    "\n",
    "get_raw_balance([\"0x38abab9766e0b27d2912718a884292b8e7eb2803\",\"0x96e61422b6a9ba0e068b6c5add4ffabc6a4aae27\",15309872])\n",
    "\n",
    "get_raw_balance([\"0x4436f5dd7bc4a63bcd86a33ba2862fdbf242c76e\",\"0xa0b86991c6218b36c1d19d4a2e9eb0ce3606eb48\",15309986])\n",
    "\n",
    "get_raw_balance([\"0x951b928f2a8ba7ce14cc418cfebfee30a57294c3\",\"0xbea0000029ad1c77d3d5d23ba2d8893db9d1efab\",15309847])\n",
    "\n",
    "get_raw_balance([\"0x8342e88c58aa3e0a63b7cf94b6d56589fd19f751\",\"0xbea0000029ad1c77d3d5d23ba2d8893db9d1efab\",15309855])\n",
    "\n",
    "get_raw_balance([\"0x61174b7e5e11139f79e6c0f07784373e86d90858\",\"0xdac17f958d2ee523a2206206994597c13d831ec7\",15310012])\n",
    "\n",
    "get_raw_balance([\"0x3d4fcd5e5fcb60fca9dd4c5144aa970865325803\",\"0xbea0000029ad1c77d3d5d23ba2d8893db9d1efab\",15310054])\n",
    "\n",
    "get_raw_balance([\"0x8c35933c469406c8899882f5c2119649cd5b617f\",\"0xa0b86991c6218b36c1d19d4a2e9eb0ce3606eb48\",15310037])\n",
    "\n",
    "get_raw_balance([\"0x1a2a910185467dab98c3c04eee38ac6dbbc3b0d5\",\"0x6b175474e89094c44da98b954eedeac495271d0f\",15310017])\n",
    "\n",
    "get_raw_balance([\"0x5275817b74021e97c980e95ede6bbac0d0d6f3a2\",\"0x1cc481ce2bd2ec7bf67d1be64d4878b16078f309\",15310091])\n",
    "\n",
    "get_raw_balance([\"0xbf87bfcaf948c853cb4edbf07cb8dab80319fc5e\",\"0xa0b86991c6218b36c1d19d4a2e9eb0ce3606eb48\",15310016])\n",
    "\n",
    "get_raw_balance([\"0xc705faf7a01faaf50198ae32a8e1e8b3a60b18bb\",\"0x6b175474e89094c44da98b954eedeac495271d0f\",15310260])\n",
    "\n",
    "get_raw_balance([\"0xb97f255b37eef7d47dbe1debbecd1f2ecfc37abe\",\"0xa0b86991c6218b36c1d19d4a2e9eb0ce3606eb48\",15310240])\n",
    "\n",
    "for erc20 in erc20_risks_mapping.keys():\n",
    "    erc20_risks_mapping[erc20]['amount'] = erc20_risks_mapping[erc20]['amount'] / pow(10, erc20_risks_mapping[erc20]['decimals'])\n",
    "\n",
    "df = pd.DataFrame(erc20_risks_mapping)\n",
    "print(df)"
   ]
  },
  {
   "cell_type": "code",
   "execution_count": 26,
   "metadata": {},
   "outputs": [
    {
     "name": "stdout",
     "output_type": "stream",
     "text": [
      "         0x97fe22e7341a0cd8db6f6c021a24dc8f4dad855f  \\\n",
      "decimals                                         18   \n",
      "amount                                 188444.20252   \n",
      "symbol                                         sGBP   \n",
      "\n",
      "         0xa0b86991c6218b36c1d19d4a2e9eb0ce3606eb48  \\\n",
      "decimals                                          6   \n",
      "amount                                240549.331217   \n",
      "symbol                                         USDC   \n",
      "\n",
      "         0x269895a3df4d73b077fc823dd6da1b95f72aaf9b  \\\n",
      "decimals                                         18   \n",
      "amount                              27947671.011516   \n",
      "symbol                                         sKRW   \n",
      "\n",
      "         0x6b175474e89094c44da98b954eedeac495271d0f  \\\n",
      "decimals                                         18   \n",
      "amount                                 11099.899691   \n",
      "symbol                                          DAI   \n",
      "\n",
      "         0x96e61422b6a9ba0e068b6c5add4ffabc6a4aae27  \\\n",
      "decimals                                         18   \n",
      "amount                                     800000.0   \n",
      "symbol                                        ibEUR   \n",
      "\n",
      "         0xbea0000029ad1c77d3d5d23ba2d8893db9d1efab  \\\n",
      "decimals                                          6   \n",
      "amount                                  6997.580384   \n",
      "symbol                                         BEAN   \n",
      "\n",
      "         0xdac17f958d2ee523a2206206994597c13d831ec7  \\\n",
      "decimals                                          6   \n",
      "amount                                 53391.190567   \n",
      "symbol                                         USDT   \n",
      "\n",
      "         0x1cc481ce2bd2ec7bf67d1be64d4878b16078f309  \n",
      "decimals                                         18  \n",
      "amount                                 43862.302832  \n",
      "symbol                                        ibCHF  \n"
     ]
    }
   ],
   "source": [
    "# Remove the stolen amount from the risk list\n",
    "from copy import deepcopy\n",
    "\n",
    "erc20_amount_not_stolen = {}\n",
    "for erc20 in erc20_risks_mapping.keys():\n",
    "    erc20_amount_not_stolen[erc20] = deepcopy(erc20_risks_mapping[erc20])\n",
    "    if erc20 in asset_lost_results.keys():\n",
    "        erc20_amount_not_stolen[erc20]['amount'] -= asset_lost_results[erc20]['amount']\n",
    "\n",
    "df = pd.DataFrame(erc20_amount_not_stolen)\n",
    "print(df)"
   ]
  }
 ],
 "metadata": {
  "kernelspec": {
   "display_name": "Python 3.8.13 ('CPSC5910')",
   "language": "python",
   "name": "python3"
  },
  "language_info": {
   "codemirror_mode": {
    "name": "ipython",
    "version": 3
   },
   "file_extension": ".py",
   "mimetype": "text/x-python",
   "name": "python",
   "nbconvert_exporter": "python",
   "pygments_lexer": "ipython3",
   "version": "3.8.13"
  },
  "orig_nbformat": 4,
  "vscode": {
   "interpreter": {
    "hash": "d324f828b37aa5c2f631371e9406361f9a97092a5b9c3d4e76f4018a82273078"
   }
  }
 },
 "nbformat": 4,
 "nbformat_minor": 2
}
