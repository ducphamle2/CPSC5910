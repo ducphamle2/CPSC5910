{
 "cells": [
  {
   "cell_type": "code",
   "execution_count": 67,
   "metadata": {},
   "outputs": [],
   "source": [
    "from web3 import Web3\n",
    "import json\n",
    "from hexbytes import HexBytes\n",
    "from dotenv import load_dotenv\n",
    "load_dotenv()  # have your sensitive in .env file/ add it to .gitignore to prevent accidental commit to github\n",
    "import os"
   ]
  },
  {
   "cell_type": "code",
   "execution_count": 12,
   "metadata": {},
   "outputs": [
    {
     "data": {
      "text/plain": [
       "7937828"
      ]
     },
     "execution_count": 12,
     "metadata": {},
     "output_type": "execute_result"
    }
   ],
   "source": [
    "rpc_endpoint_address=os.environ.get('GOERLI_RPC')\n",
    "w3 = Web3(Web3.HTTPProvider(rpc_endpoint_address))\n",
    "w3.manager.request_blocking\n",
    "w3.eth.block_number"
   ]
  },
  {
   "cell_type": "code",
   "execution_count": 82,
   "metadata": {},
   "outputs": [
    {
     "data": {
      "text/plain": [
       "'0xE05cCbcbCb088D8Ae063401249366348cf0eD6C4'"
      ]
     },
     "execution_count": 82,
     "metadata": {},
     "output_type": "execute_result"
    }
   ],
   "source": [
    "# we generate the private key, which we export from metamask\n",
    "account = w3.eth.account.from_key(os.environ.get('ETHERNAUT_PRIVATE_KEY'))\n",
    "account.address"
   ]
  },
  {
   "cell_type": "code",
   "execution_count": 80,
   "metadata": {},
   "outputs": [
    {
     "name": "stdout",
     "output_type": "stream",
     "text": [
      "0x23faa67874832768c9dca81d349bb970d2e6d5cf686a57c51143a18eab721662\n"
     ]
    }
   ],
   "source": [
    "print(w3.eth.get_storage_at(\"0x4A5716FA5749ADaaedff49eF1aFe1f3D92f92E3A\", 5).hex())"
   ]
  },
  {
   "cell_type": "code",
   "execution_count": 83,
   "metadata": {},
   "outputs": [
    {
     "data": {
      "text/plain": [
       "HexBytes('0xb97f6765850903a8a91e3525e4a8168067779b97cfef025c9db4aabdbc1a2184')"
      ]
     },
     "execution_count": 83,
     "metadata": {},
     "output_type": "execute_result"
    }
   ],
   "source": [
    "unlock = HexBytes('0xe1afb08c23faa67874832768c9dca81d349bb97000000000000000000000000000000000')\n",
    "\n",
    "raw_tx = {\n",
    "    'gas': 200000,\n",
    "    'chainId': 5,\n",
    "    'maxFeePerGas': w3.eth.gas_price,\n",
    "    'maxPriorityFeePerGas': w3.eth.max_priority_fee,\n",
    "    'from': account.address,\n",
    "    'nonce': w3.eth.getTransactionCount(account.address),\n",
    "    'to': '0x4A5716FA5749ADaaedff49eF1aFe1f3D92f92E3A',\n",
    "    'data': unlock\n",
    "    } \n",
    "\n",
    "signed_tx = w3.eth.account.sign_transaction(raw_tx,account.key)\n",
    "tx_hash = w3.eth.send_raw_transaction(signed_tx.rawTransaction)\n",
    "tx_hash"
   ]
  }
 ],
 "metadata": {
  "kernelspec": {
   "display_name": "Python 3.8.13 ('CPSC5910')",
   "language": "python",
   "name": "python3"
  },
  "language_info": {
   "codemirror_mode": {
    "name": "ipython",
    "version": 3
   },
   "file_extension": ".py",
   "mimetype": "text/x-python",
   "name": "python",
   "nbconvert_exporter": "python",
   "pygments_lexer": "ipython3",
   "version": "3.8.13"
  },
  "orig_nbformat": 4,
  "vscode": {
   "interpreter": {
    "hash": "d324f828b37aa5c2f631371e9406361f9a97092a5b9c3d4e76f4018a82273078"
   }
  }
 },
 "nbformat": 4,
 "nbformat_minor": 2
}
