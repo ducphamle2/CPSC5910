{
 "cells": [
  {
   "cell_type": "code",
   "execution_count": null,
   "metadata": {},
   "outputs": [],
   "source": [
    "from web3 import Web3\n",
    "from dotenv import load_dotenv\n",
    "import os\n",
    "load_dotenv()"
   ]
  },
  {
   "cell_type": "code",
   "execution_count": null,
   "metadata": {},
   "outputs": [],
   "source": [
    "rpc_endpoint_address=os.getenv('POLYGON_RPC_ENDPOINT')\n",
    "w3 = Web3(Web3.HTTPProvider(rpc_endpoint_address))\n",
    "w3.manager.request_blocking"
   ]
  },
  {
   "cell_type": "code",
   "execution_count": null,
   "metadata": {},
   "outputs": [],
   "source": [
    "balance = w3.eth.get_balance(w3.toChecksumAddress(\"0x16FF312A4d4171a68a7e06c12916015D30235251\"))\n",
    "Web3.fromWei(balance, 'ether')"
   ]
  },
  {
   "cell_type": "code",
   "execution_count": 24,
   "metadata": {},
   "outputs": [
    {
     "ename": "UnicodeDecodeError",
     "evalue": "'utf-8' codec can't decode byte 0x9b in position 27: invalid start byte",
     "output_type": "error",
     "traceback": [
      "\u001b[0;31m---------------------------------------------------------------------------\u001b[0m",
      "\u001b[0;31mUnicodeDecodeError\u001b[0m                        Traceback (most recent call last)",
      "Cell \u001b[0;32mIn [24], line 4\u001b[0m\n\u001b[1;32m      1\u001b[0m w3\u001b[39m.\u001b[39meth\u001b[39m.\u001b[39mblock_number\n\u001b[1;32m      2\u001b[0m storageSecond \u001b[39m=\u001b[39m w3\u001b[39m.\u001b[39meth\u001b[39m.\u001b[39mget_storage_at(\u001b[39m'\u001b[39m\u001b[39m0xc2132D05D31c914a87C6611C10748AEb04B58e8F\u001b[39m\u001b[39m'\u001b[39m, \u001b[39m2\u001b[39m)\n\u001b[0;32m----> 4\u001b[0m storageSecond\u001b[39m.\u001b[39;49mdecode(\u001b[39m'\u001b[39;49m\u001b[39mutf-8\u001b[39;49m\u001b[39m'\u001b[39;49m)\n",
      "\u001b[0;31mUnicodeDecodeError\u001b[0m: 'utf-8' codec can't decode byte 0x9b in position 27: invalid start byte"
     ]
    }
   ],
   "source": [
    "w3.eth.block_number\n",
    "storageSecond = w3.eth.get_storage_at('0xc2132D05D31c914a87C6611C10748AEb04B58e8F', 2)\n",
    "\n",
    "storageSecond.decode('utf-8')"
   ]
  }
 ],
 "metadata": {
  "kernelspec": {
   "display_name": "Python 3.8.13 ('CPSC5910')",
   "language": "python",
   "name": "python3"
  },
  "language_info": {
   "codemirror_mode": {
    "name": "ipython",
    "version": 3
   },
   "file_extension": ".py",
   "mimetype": "text/x-python",
   "name": "python",
   "nbconvert_exporter": "python",
   "pygments_lexer": "ipython3",
   "version": "3.8.13"
  },
  "orig_nbformat": 4,
  "vscode": {
   "interpreter": {
    "hash": "d324f828b37aa5c2f631371e9406361f9a97092a5b9c3d4e76f4018a82273078"
   }
  }
 },
 "nbformat": 4,
 "nbformat_minor": 2
}
