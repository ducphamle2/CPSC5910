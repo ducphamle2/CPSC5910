{
 "cells": [
  {
   "cell_type": "code",
   "execution_count": 10,
   "metadata": {},
   "outputs": [],
   "source": [
    "from web3 import Web3\n",
    "import json\n",
    "from dotenv import load_dotenv\n",
    "load_dotenv()  # have your sensitive in .env file/ add it to .gitignore to prevent accidental commit to github\n",
    "import os"
   ]
  },
  {
   "cell_type": "code",
   "execution_count": 11,
   "metadata": {},
   "outputs": [
    {
     "data": {
      "text/plain": [
       "7846973"
      ]
     },
     "execution_count": 11,
     "metadata": {},
     "output_type": "execute_result"
    }
   ],
   "source": [
    "rpc_endpoint_address=os.environ.get('GOERLI_RPC')\n",
    "w3 = Web3(Web3.HTTPProvider(rpc_endpoint_address))\n",
    "w3.manager.request_blocking\n",
    "w3.eth.block_number"
   ]
  },
  {
   "cell_type": "code",
   "execution_count": 13,
   "metadata": {},
   "outputs": [
    {
     "data": {
      "text/plain": [
       "'0xE05cCbcbCb088D8Ae063401249366348cf0eD6C4'"
      ]
     },
     "execution_count": 13,
     "metadata": {},
     "output_type": "execute_result"
    }
   ],
   "source": [
    "# we generate the private key, which we export from metamask\n",
    "account = w3.eth.account.from_key(os.environ.get('PRIVATE_KEY'))\n",
    "account.address"
   ]
  }
 ],
 "metadata": {
  "kernelspec": {
   "display_name": "Python 3.8.13 ('CPSC5910')",
   "language": "python",
   "name": "python3"
  },
  "language_info": {
   "codemirror_mode": {
    "name": "ipython",
    "version": 3
   },
   "file_extension": ".py",
   "mimetype": "text/x-python",
   "name": "python",
   "nbconvert_exporter": "python",
   "pygments_lexer": "ipython3",
   "version": "3.8.13"
  },
  "orig_nbformat": 4,
  "vscode": {
   "interpreter": {
    "hash": "d324f828b37aa5c2f631371e9406361f9a97092a5b9c3d4e76f4018a82273078"
   }
  }
 },
 "nbformat": 4,
 "nbformat_minor": 2
}
