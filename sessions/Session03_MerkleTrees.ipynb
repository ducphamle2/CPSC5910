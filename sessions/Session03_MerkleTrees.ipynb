{
 "cells": [
  {
   "cell_type": "code",
   "execution_count": 1,
   "metadata": {},
   "outputs": [],
   "source": [
    "from typing import List\n",
    "from eth_typing import Hash32\n",
    "from evm_sc_utils.merkle_tree import MerkleTreeKeccak\n",
    "from web3 import Web3"
   ]
  },
  {
   "cell_type": "code",
   "execution_count": 16,
   "metadata": {},
   "outputs": [],
   "source": [
    "leaves: List[str] = [\n",
    "        \"0x807c47A89F720fe4Ee9b8343c286Fc886f43191b\",\n",
    "        \"0x844ec86426F076647A5362706a04570A5965473B\",\n",
    "        \"0x46C0a5326E643E4f71D3149d50B48216e174Ae84\",\n",
    "        \"0x5B38Da6a701c568545dCfcB03FcB875f56beddC4\"\n",
    "    ]\n",
    "hashed_leaves: List[Hash32] = [\n",
    "    Web3.solidityKeccak([\"address\"], [leaf]) for leaf in leaves\n",
    "]\n",
    "mt = MerkleTreeKeccak(hashed_leaves)"
   ]
  },
  {
   "cell_type": "code",
   "execution_count": 12,
   "metadata": {},
   "outputs": [
    {
     "data": {
      "text/plain": [
       "'0x1d8c3fe103f58db27a9a8e824b1af9ec98a7fb3434ea37750f6206c0da288903'"
      ]
     },
     "execution_count": 12,
     "metadata": {},
     "output_type": "execute_result"
    }
   ],
   "source": [
    "mt.root_hash"
   ]
  },
  {
   "cell_type": "code",
   "execution_count": 18,
   "metadata": {},
   "outputs": [
    {
     "data": {
      "text/plain": [
       "['0xf9e19de495b8998dfee29352ebd3bfe146263e1f8b3223187244cf38e03ab9c5',\n",
       " '0xe9c363ac8b15db69db1f132015672432dae2ca766a668862d5371379ce145d38']"
      ]
     },
     "execution_count": 18,
     "metadata": {},
     "output_type": "execute_result"
    }
   ],
   "source": [
    "mt.get_proof(hashed_leaves[2])"
   ]
  },
  {
   "cell_type": "code",
   "execution_count": 17,
   "metadata": {},
   "outputs": [
    {
     "data": {
      "text/plain": [
       "[HexBytes('0x344d536da52f2f25e5f9e89b357952f4ed7fdf6a74025f4a9098dc355396695a'),\n",
       " HexBytes('0x50ba2086958d320d73135728ff30eae03ef09b45fea302102d844697eb2f4b6d'),\n",
       " HexBytes('0x5931b4ed56ace4c46b68524cb5bcbf4195f1bbaacbe5228fbd090546c88dd229'),\n",
       " HexBytes('0xf9e19de495b8998dfee29352ebd3bfe146263e1f8b3223187244cf38e03ab9c5')]"
      ]
     },
     "execution_count": 17,
     "metadata": {},
     "output_type": "execute_result"
    }
   ],
   "source": [
    "hashed_leaves"
   ]
  },
  {
   "cell_type": "code",
   "execution_count": null,
   "metadata": {},
   "outputs": [],
   "source": [
    "0x5931B4ED56ACE4C46B68524CB5BCBF4195F1BBAACBE5228FBD090546C88DD229"
   ]
  }
 ],
 "metadata": {
  "kernelspec": {
   "display_name": "Python 3.8.13 ('CPSC5910')",
   "language": "python",
   "name": "python3"
  },
  "language_info": {
   "codemirror_mode": {
    "name": "ipython",
    "version": 3
   },
   "file_extension": ".py",
   "mimetype": "text/x-python",
   "name": "python",
   "nbconvert_exporter": "python",
   "pygments_lexer": "ipython3",
   "version": "3.8.13"
  },
  "orig_nbformat": 4,
  "vscode": {
   "interpreter": {
    "hash": "d324f828b37aa5c2f631371e9406361f9a97092a5b9c3d4e76f4018a82273078"
   }
  }
 },
 "nbformat": 4,
 "nbformat_minor": 2
}
